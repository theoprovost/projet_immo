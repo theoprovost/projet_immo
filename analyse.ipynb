{
 "cells": [
  {
   "cell_type": "markdown",
   "id": "0ff5c5ae-d5ca-4f46-b3f2-5e01513e5436",
   "metadata": {},
   "source": [
    "# Rendu de projet données immobilières"
   ]
  },
  {
   "cell_type": "markdown",
   "id": "646f94dd-c86e-42f0-964d-2dad81c217e3",
   "metadata": {},
   "source": [
    "Useful links : [Subject](https://simplonline.co/briefs/327207de-b68d-4563-bc7a-249a7637782d) | [Original dataset (.csv)](https://www.data.gouv.fr/fr/datasets/5c4ae55a634f4117716d5656/) <br>\n",
    "This project was realized by : Adil, Marianne, Nidal, Théo & Zohra"
   ]
  },
  {
   "cell_type": "markdown",
   "id": "8e1f1b9b-cea3-45ed-aecf-1902e64a9c2f",
   "metadata": {},
   "source": [
    "----\n",
    "## 📍 TO DO :\n",
    "- Find a solution for data type of col `Code postal`\n",
    "- Last question (n. 12)\n",
    "- Add links to md\n",
    "- Modify data dict accordingly\n",
    "- Does we need to present data in formal way ?\n",
    "<br>\n",
    "<br>\n",
    "-----"
   ]
  },
  {
   "cell_type": "markdown",
   "id": "ef608d0e-8da7-4c80-ae87-68003c4d5ee6",
   "metadata": {},
   "source": [
    "### Table of content :\n",
    "> 💡 Links are working if you clik them in theo's GitHub repo\n",
    "- [Dictionnaire de données - Data Dictionary]()\n",
    "- [Modèle Conceptuel de données (MCD)]()\n",
    "- [Modèle Physique de données (MPD)]()"
   ]
  },
  {
   "cell_type": "markdown",
   "id": "065c0e58-0cd4-4561-ba94-5edbef7810b4",
   "metadata": {},
   "source": [
    "### Table of questions :\n",
    "1. [Nombre d'appartements et maisons vendus en 2020](#) \n",
    "2. [Nombre de biens vendu par trimestre](#)\n",
    "3. [Proportion des ventes de biens par trimestre par typologie de bien](#)\n",
    "4. [Proportion d’appartements vendus par nombre de pièces](#)\n",
    "5. [Les 10 départements où il y a eu le plus de ventes immobilières](#)\n",
    "6. [Les 10 départements où il y en a eu le moins](#)\n",
    "7. [Prix au m2 en IDF](#)\n",
    "8. [Liste des 10 appartements les plus chers avec le département et le nombre de mètres carrés](#)\n",
    "9. [Taux d’évolution du nombre de ventes entre le premier et le second trimestre de 2020](#)\n",
    "10. [Liste des communes où le nombre de ventes a augmenté d'au moins 20% entre le premier et le second trimestre de 2020](#)"
   ]
  },
  {
   "cell_type": "code",
   "execution_count": 3,
   "id": "c27e46ca-92cc-4436-896b-ad33f60a444f",
   "metadata": {
    "jupyter": {
     "source_hidden": true
    },
    "tags": []
   },
   "outputs": [
    {
     "name": "stdout",
     "output_type": "stream",
     "text": [
      "Connection established with postgres.\n"
     ]
    }
   ],
   "source": [
    "# PG connection\n",
    "import psycopg2 as pgconn\n",
    "\n",
    "def connect():\n",
    "    try:\n",
    "        conn = pgconn.connect(\n",
    "            host='localhost',\n",
    "            database='immo_db',\n",
    "            user='postgres',\n",
    "            password=''\n",
    "        )\n",
    "    except (Exception, pgconn.DatabaseError) as error:\n",
    "        print('⚠︎ Postgres connection error')\n",
    "        conn = error\n",
    "        print(conn)\n",
    "    finally:\n",
    "        print('Connection established with postgres.')\n",
    "        return conn\n",
    "    \n",
    "\n",
    "conn = connect()\n",
    "conn.autocommit = True\n",
    "cur = conn.cursor()\n",
    "\n",
    "# Import pandas\n",
    "import pandas as pd\n",
    "\n",
    "# Import numpy\n",
    "import numpy as np\n",
    "\n",
    "# Import seaborn\n",
    "import seaborn as sn"
   ]
  },
  {
   "cell_type": "markdown",
   "id": "5e9993d9-8874-4681-9b04-2b3d12da65c3",
   "metadata": {},
   "source": [
    "----------\n",
    "## Nombre d'appartements et maisons vendus en 2020"
   ]
  },
  {
   "cell_type": "markdown",
   "id": "c7d37184-7581-4357-ba56-9bb99d03969c",
   "metadata": {},
   "source": [
    "```sql\n",
    "SELECT sum(total_houses + total_flats) AS sub_total, total_houses, total_flats FROM (\n",
    "\tSELECT * FROM \n",
    "\t(\n",
    "\t\tSELECT sum(case when bien.code_type_local = 1 then 1 else 0 end) AS total_houses, \n",
    "\t\tsum(case when bien.code_type_local = 2 then 1 else 0 end) AS total_flats\n",
    "\t\tFROM transaction LEFT JOIN bien ON transaction.bien_id = bien.id \n",
    "\t) x \n",
    ") y GROUP BY total_flats, total_houses;\n",
    "```\n",
    "<br>"
   ]
  },
  {
   "cell_type": "code",
   "execution_count": 4,
   "id": "77f18c82-29bb-45ba-b13b-3c6fdd4badd2",
   "metadata": {
    "jupyter": {
     "source_hidden": true
    },
    "tags": []
   },
   "outputs": [
    {
     "data": {
      "text/html": [
       "<div>\n",
       "<style scoped>\n",
       "    .dataframe tbody tr th:only-of-type {\n",
       "        vertical-align: middle;\n",
       "    }\n",
       "\n",
       "    .dataframe tbody tr th {\n",
       "        vertical-align: top;\n",
       "    }\n",
       "\n",
       "    .dataframe thead th {\n",
       "        text-align: right;\n",
       "    }\n",
       "</style>\n",
       "<table border=\"1\" class=\"dataframe\">\n",
       "  <thead>\n",
       "    <tr style=\"text-align: right;\">\n",
       "      <th></th>\n",
       "      <th>Total</th>\n",
       "      <th>Sub-total houses</th>\n",
       "      <th>Sub-total flats</th>\n",
       "    </tr>\n",
       "  </thead>\n",
       "  <tbody>\n",
       "    <tr>\n",
       "      <th>0</th>\n",
       "      <td>69876</td>\n",
       "      <td>34756</td>\n",
       "      <td>35120</td>\n",
       "    </tr>\n",
       "  </tbody>\n",
       "</table>\n",
       "</div>"
      ],
      "text/plain": [
       "   Total Sub-total houses Sub-total flats\n",
       "0  69876            34756           35120"
      ]
     },
     "execution_count": 4,
     "metadata": {},
     "output_type": "execute_result"
    }
   ],
   "source": [
    "cur.execute('SELECT sum(total_houses + total_flats) AS sub_total, total_houses, total_flats FROM (SELECT * FROM (SELECT sum(case when bien.code_type_local = 1 then 1 else 0 end) AS total_houses, sum(case when bien.code_type_local = 2 then 1 else 0 end) AS total_flats FROM transaction LEFT JOIN bien ON transaction.bien_id = bien.id ) x ) y GROUP BY total_flats, total_houses;')\n",
    "result = cur.fetchone()\n",
    "\n",
    "df = pd.DataFrame(result)\n",
    "df = df.transpose()\n",
    "df = df.rename(columns={0: 'Total', 1: 'Sub-total houses', 2: 'Sub-total flats'})\n",
    "\n",
    "df"
   ]
  },
  {
   "cell_type": "markdown",
   "id": "ed43ac76-1f5a-4f33-b1aa-a110022328f8",
   "metadata": {},
   "source": [
    "------------\n",
    "##  Nombre de biens vendu par trimestre "
   ]
  },
  {
   "cell_type": "markdown",
   "id": "961cf96a-64ed-4efc-a2d4-9251dfec0b55",
   "metadata": {},
   "source": [
    "```sql\n",
    "SELECT \n",
    "\tsum(case when date_mutation <= '2020-03-31' then 1 else 0 end) as t1,\n",
    "\tsum(case when date_mutation BETWEEN '2020-04-01' AND '2020-06-30' then 1 else 0 end) as t2,\n",
    "\tsum(case when date_mutation BETWEEN '2020-07-01' AND '2020-09-30' then 1 else 0 end) as t3,\n",
    "\tsum(case when date_mutation >= '2020-10-01' then 1 else 0 end) as t4\n",
    "FROM transaction;\n",
    "```\n",
    "<br>"
   ]
  },
  {
   "cell_type": "code",
   "execution_count": 6,
   "id": "f97d5e54-3de2-42e5-b94a-05a0654f9204",
   "metadata": {
    "jupyter": {
     "source_hidden": true
    },
    "tags": []
   },
   "outputs": [
    {
     "data": {
      "text/html": [
       "<div>\n",
       "<style scoped>\n",
       "    .dataframe tbody tr th:only-of-type {\n",
       "        vertical-align: middle;\n",
       "    }\n",
       "\n",
       "    .dataframe tbody tr th {\n",
       "        vertical-align: top;\n",
       "    }\n",
       "\n",
       "    .dataframe thead th {\n",
       "        text-align: right;\n",
       "    }\n",
       "</style>\n",
       "<table border=\"1\" class=\"dataframe\">\n",
       "  <thead>\n",
       "    <tr style=\"text-align: right;\">\n",
       "      <th></th>\n",
       "      <th>T1</th>\n",
       "      <th>T2</th>\n",
       "      <th>T3</th>\n",
       "      <th>T4</th>\n",
       "    </tr>\n",
       "  </thead>\n",
       "  <tbody>\n",
       "    <tr>\n",
       "      <th>2020</th>\n",
       "      <td>61410</td>\n",
       "      <td>50793</td>\n",
       "      <td>49230</td>\n",
       "      <td>38567</td>\n",
       "    </tr>\n",
       "  </tbody>\n",
       "</table>\n",
       "</div>"
      ],
      "text/plain": [
       "         T1     T2     T3     T4\n",
       "2020  61410  50793  49230  38567"
      ]
     },
     "execution_count": 6,
     "metadata": {},
     "output_type": "execute_result"
    }
   ],
   "source": [
    "cur.execute(\"SELECT sum(case when date_mutation <= '2020-03-31' then 1 else 0 end) as t1, sum(case when date_mutation BETWEEN '2020-04-01' AND '2020-06-30' then 1 else 0 end) as t2, sum(case when date_mutation BETWEEN '2020-07-01' AND '2020-09-30' then 1 else 0 end) as t3, sum(case when date_mutation >= '2020-10-01' then 1 else 0 end) as t4 FROM transaction\")\n",
    "result = cur.fetchone()\n",
    "\n",
    "df = pd.DataFrame(result)\n",
    "df = df.transpose()\n",
    "df = df.rename(columns={0: 'T1', 1: 'T2', 2: 'T3', 3: 'T4'}, index={0 : '2020'})\n",
    "df"
   ]
  },
  {
   "cell_type": "markdown",
   "id": "885ff030-c0b8-4e69-99e8-02c569b9f1c3",
   "metadata": {},
   "source": [
    "-----------\n",
    "##  Proportion des ventes de biens par trimestre par typologie de bien"
   ]
  },
  {
   "cell_type": "markdown",
   "id": "4bd52d04-dacd-4354-bf6f-8833a98bb22a",
   "metadata": {},
   "source": [
    "```sql\n",
    "SELECT \n",
    "\tsum(case when date_mutation <= '2020-03-31' then 1 else 0 end) as t1,\n",
    "\tsum(case when date_mutation BETWEEN '2020-04-01' AND '2020-06-30' then 1 else 0 end) as t2,\n",
    "\tsum(case when date_mutation BETWEEN '2020-07-01' AND '2020-09-30' then 1 else 0 end) as t3,\n",
    "\tsum(case when date_mutation >= '2020-10-01' then 1 else 0 end) as t4\n",
    "FROM transaction LEFT JOIN bien on transaction.bien_id = bien.id GROUP BY bien.code_type_local;\n",
    "```\n",
    "<br>"
   ]
  },
  {
   "cell_type": "code",
   "execution_count": 7,
   "id": "fafb3d1a-27be-4e10-b2c5-96fa8ec5b04b",
   "metadata": {
    "jupyter": {
     "source_hidden": true
    },
    "tags": []
   },
   "outputs": [
    {
     "data": {
      "text/html": [
       "<div>\n",
       "<style scoped>\n",
       "    .dataframe tbody tr th:only-of-type {\n",
       "        vertical-align: middle;\n",
       "    }\n",
       "\n",
       "    .dataframe tbody tr th {\n",
       "        vertical-align: top;\n",
       "    }\n",
       "\n",
       "    .dataframe thead th {\n",
       "        text-align: right;\n",
       "    }\n",
       "</style>\n",
       "<table border=\"1\" class=\"dataframe\">\n",
       "  <thead>\n",
       "    <tr style=\"text-align: right;\">\n",
       "      <th></th>\n",
       "      <th>T1</th>\n",
       "      <th>T2</th>\n",
       "      <th>T3</th>\n",
       "      <th>T4</th>\n",
       "    </tr>\n",
       "  </thead>\n",
       "  <tbody>\n",
       "    <tr>\n",
       "      <th>Houses</th>\n",
       "      <td>9643</td>\n",
       "      <td>8725</td>\n",
       "      <td>9020</td>\n",
       "      <td>7368</td>\n",
       "    </tr>\n",
       "    <tr>\n",
       "      <th>Flats</th>\n",
       "      <td>10161</td>\n",
       "      <td>8982</td>\n",
       "      <td>9040</td>\n",
       "      <td>6937</td>\n",
       "    </tr>\n",
       "    <tr>\n",
       "      <th>Isolated dependancy</th>\n",
       "      <td>7986</td>\n",
       "      <td>7182</td>\n",
       "      <td>7324</td>\n",
       "      <td>5131</td>\n",
       "    </tr>\n",
       "    <tr>\n",
       "      <th>Industrial space</th>\n",
       "      <td>2455</td>\n",
       "      <td>1566</td>\n",
       "      <td>1546</td>\n",
       "      <td>1297</td>\n",
       "    </tr>\n",
       "    <tr>\n",
       "      <th>Not specified</th>\n",
       "      <td>31165</td>\n",
       "      <td>24338</td>\n",
       "      <td>22300</td>\n",
       "      <td>17834</td>\n",
       "    </tr>\n",
       "  </tbody>\n",
       "</table>\n",
       "</div>"
      ],
      "text/plain": [
       "                        T1     T2     T3     T4\n",
       "Houses                9643   8725   9020   7368\n",
       "Flats                10161   8982   9040   6937\n",
       "Isolated dependancy   7986   7182   7324   5131\n",
       "Industrial space      2455   1566   1546   1297\n",
       "Not specified        31165  24338  22300  17834"
      ]
     },
     "execution_count": 7,
     "metadata": {},
     "output_type": "execute_result"
    }
   ],
   "source": [
    "cur.execute(\"SELECT sum(case when date_mutation <= '2020-03-31' then 1 else 0 end) as t1, sum(case when date_mutation BETWEEN '2020-04-01' AND '2020-06-30' then 1 else 0 end) as t2, sum(case when date_mutation BETWEEN '2020-07-01' AND '2020-09-30' then 1 else 0 end) as t3, sum(case when date_mutation >= '2020-10-01' then 1 else 0 end) as t4 FROM transaction LEFT JOIN bien on transaction.bien_id = bien.id GROUP BY bien.code_type_local;\")\n",
    "result = cur.fetchall()\n",
    "\n",
    "df = pd.DataFrame(result, columns=['T1', 'T2', 'T3', 'T4'], index=['Houses', 'Flats', 'Isolated dependancy', 'Industrial space', 'Not specified'])\n",
    "df"
   ]
  },
  {
   "cell_type": "markdown",
   "id": "181e7036-6cf1-4625-b2db-238cc42cd109",
   "metadata": {},
   "source": [
    "--------------\n",
    "##  Proportion d’appartements vendus par nombre de pièces"
   ]
  },
  {
   "cell_type": "markdown",
   "id": "50466baa-f395-49ad-94bc-d1487e627f9f",
   "metadata": {},
   "source": [
    "```sql\n",
    "SELECT count(transaction.id), bien.nb_pieces_principales FROM transaction LEFT JOIN bien ON transaction.bien_id = bien.id WHERE bien.code_type_local = 2 GROUP BY bien.nb_pieces_principales ORDER BY bien.nb_pieces_principales;\n",
    "```\n",
    "<br>"
   ]
  },
  {
   "cell_type": "code",
   "execution_count": 8,
   "id": "6771355e-f5ba-40b5-9991-3c07785f15ee",
   "metadata": {
    "jupyter": {
     "source_hidden": true
    },
    "tags": []
   },
   "outputs": [
    {
     "data": {
      "text/html": [
       "<div>\n",
       "<style scoped>\n",
       "    .dataframe tbody tr th:only-of-type {\n",
       "        vertical-align: middle;\n",
       "    }\n",
       "\n",
       "    .dataframe tbody tr th {\n",
       "        vertical-align: top;\n",
       "    }\n",
       "\n",
       "    .dataframe thead th {\n",
       "        text-align: right;\n",
       "    }\n",
       "</style>\n",
       "<table border=\"1\" class=\"dataframe\">\n",
       "  <thead>\n",
       "    <tr style=\"text-align: right;\">\n",
       "      <th></th>\n",
       "      <th>Total nb of flats</th>\n",
       "      <th>Nb of rooms</th>\n",
       "    </tr>\n",
       "  </thead>\n",
       "  <tbody>\n",
       "    <tr>\n",
       "      <th>0</th>\n",
       "      <td>78</td>\n",
       "      <td>0</td>\n",
       "    </tr>\n",
       "    <tr>\n",
       "      <th>1</th>\n",
       "      <td>7608</td>\n",
       "      <td>1</td>\n",
       "    </tr>\n",
       "    <tr>\n",
       "      <th>2</th>\n",
       "      <td>10978</td>\n",
       "      <td>2</td>\n",
       "    </tr>\n",
       "    <tr>\n",
       "      <th>3</th>\n",
       "      <td>10450</td>\n",
       "      <td>3</td>\n",
       "    </tr>\n",
       "    <tr>\n",
       "      <th>4</th>\n",
       "      <td>4674</td>\n",
       "      <td>4</td>\n",
       "    </tr>\n",
       "    <tr>\n",
       "      <th>5</th>\n",
       "      <td>1015</td>\n",
       "      <td>5</td>\n",
       "    </tr>\n",
       "    <tr>\n",
       "      <th>6</th>\n",
       "      <td>215</td>\n",
       "      <td>6</td>\n",
       "    </tr>\n",
       "    <tr>\n",
       "      <th>7</th>\n",
       "      <td>58</td>\n",
       "      <td>7</td>\n",
       "    </tr>\n",
       "    <tr>\n",
       "      <th>8</th>\n",
       "      <td>24</td>\n",
       "      <td>8</td>\n",
       "    </tr>\n",
       "    <tr>\n",
       "      <th>9</th>\n",
       "      <td>11</td>\n",
       "      <td>9</td>\n",
       "    </tr>\n",
       "    <tr>\n",
       "      <th>10</th>\n",
       "      <td>4</td>\n",
       "      <td>10</td>\n",
       "    </tr>\n",
       "    <tr>\n",
       "      <th>11</th>\n",
       "      <td>2</td>\n",
       "      <td>11</td>\n",
       "    </tr>\n",
       "    <tr>\n",
       "      <th>12</th>\n",
       "      <td>1</td>\n",
       "      <td>12</td>\n",
       "    </tr>\n",
       "    <tr>\n",
       "      <th>13</th>\n",
       "      <td>1</td>\n",
       "      <td>15</td>\n",
       "    </tr>\n",
       "    <tr>\n",
       "      <th>14</th>\n",
       "      <td>1</td>\n",
       "      <td>20</td>\n",
       "    </tr>\n",
       "  </tbody>\n",
       "</table>\n",
       "</div>"
      ],
      "text/plain": [
       "    Total nb of flats  Nb of rooms\n",
       "0                  78            0\n",
       "1                7608            1\n",
       "2               10978            2\n",
       "3               10450            3\n",
       "4                4674            4\n",
       "5                1015            5\n",
       "6                 215            6\n",
       "7                  58            7\n",
       "8                  24            8\n",
       "9                  11            9\n",
       "10                  4           10\n",
       "11                  2           11\n",
       "12                  1           12\n",
       "13                  1           15\n",
       "14                  1           20"
      ]
     },
     "execution_count": 8,
     "metadata": {},
     "output_type": "execute_result"
    }
   ],
   "source": [
    "cur.execute('SELECT count(transaction.id), bien.nb_pieces_principales FROM transaction LEFT JOIN bien ON transaction.bien_id = bien.id WHERE bien.code_type_local = 2 GROUP BY bien.nb_pieces_principales ORDER BY bien.nb_pieces_principales;')\n",
    "result = cur.fetchall()\n",
    "\n",
    "df = pd.DataFrame(result, columns=['Total nb of flats', 'Nb of rooms'])\n",
    "df"
   ]
  },
  {
   "cell_type": "markdown",
   "id": "7b273d7f-a289-46ad-8c64-4a192abaa314",
   "metadata": {},
   "source": [
    "------------\n",
    "## Les 10 départements où il y a eu le plus de ventes immobilières"
   ]
  },
  {
   "cell_type": "markdown",
   "id": "396d1206-4546-442e-866a-3be08a30e254",
   "metadata": {},
   "source": [
    "❌ ERR : Attention, trouver une solution pour ne pas perdre le CP (cast en float auto de `pd.read_csv()` dénature la colonne `Code postal` : ie. les 9 premiers départements disparaissent) "
   ]
  },
  {
   "cell_type": "markdown",
   "id": "5b1a007a-6b85-4d9b-9ba3-552df05abfd1",
   "metadata": {},
   "source": [
    "```sql\n",
    "SELECT count(transaction.id), substr(code_postal, 0, 3) FROM transaction LEFT JOIN bien ON transaction.bien_id = bien.id GROUP BY substr(code_postal, 0, 3) ORDER BY count(transaction.id) DESC LIMIT 10\n",
    "```\n",
    "<br>"
   ]
  },
  {
   "cell_type": "code",
   "execution_count": 17,
   "id": "13aa8559-a3af-4a1e-934d-cd3d5385d749",
   "metadata": {
    "jupyter": {
     "source_hidden": true
    },
    "tags": []
   },
   "outputs": [
    {
     "data": {
      "text/html": [
       "<div>\n",
       "<style scoped>\n",
       "    .dataframe tbody tr th:only-of-type {\n",
       "        vertical-align: middle;\n",
       "    }\n",
       "\n",
       "    .dataframe tbody tr th {\n",
       "        vertical-align: top;\n",
       "    }\n",
       "\n",
       "    .dataframe thead th {\n",
       "        text-align: right;\n",
       "    }\n",
       "</style>\n",
       "<table border=\"1\" class=\"dataframe\">\n",
       "  <thead>\n",
       "    <tr style=\"text-align: right;\">\n",
       "      <th></th>\n",
       "      <th>N° of transactions</th>\n",
       "      <th>Department</th>\n",
       "    </tr>\n",
       "  </thead>\n",
       "  <tbody>\n",
       "    <tr>\n",
       "      <th>0</th>\n",
       "      <td>13196</td>\n",
       "      <td>10</td>\n",
       "    </tr>\n",
       "    <tr>\n",
       "      <th>1</th>\n",
       "      <td>11678</td>\n",
       "      <td>61</td>\n",
       "    </tr>\n",
       "    <tr>\n",
       "      <th>2</th>\n",
       "      <td>11520</td>\n",
       "      <td>62</td>\n",
       "    </tr>\n",
       "    <tr>\n",
       "      <th>3</th>\n",
       "      <td>10241</td>\n",
       "      <td>11</td>\n",
       "    </tr>\n",
       "    <tr>\n",
       "      <th>4</th>\n",
       "      <td>6950</td>\n",
       "      <td>64</td>\n",
       "    </tr>\n",
       "    <tr>\n",
       "      <th>5</th>\n",
       "      <td>6660</td>\n",
       "      <td>63</td>\n",
       "    </tr>\n",
       "    <tr>\n",
       "      <th>6</th>\n",
       "      <td>5632</td>\n",
       "      <td>65</td>\n",
       "    </tr>\n",
       "    <tr>\n",
       "      <th>7</th>\n",
       "      <td>5613</td>\n",
       "      <td>22</td>\n",
       "    </tr>\n",
       "    <tr>\n",
       "      <th>8</th>\n",
       "      <td>5529</td>\n",
       "      <td>21</td>\n",
       "    </tr>\n",
       "    <tr>\n",
       "      <th>9</th>\n",
       "      <td>5350</td>\n",
       "      <td>12</td>\n",
       "    </tr>\n",
       "  </tbody>\n",
       "</table>\n",
       "</div>"
      ],
      "text/plain": [
       "   N° of transactions Department\n",
       "0               13196         10\n",
       "1               11678         61\n",
       "2               11520         62\n",
       "3               10241         11\n",
       "4                6950         64\n",
       "5                6660         63\n",
       "6                5632         65\n",
       "7                5613         22\n",
       "8                5529         21\n",
       "9                5350         12"
      ]
     },
     "execution_count": 17,
     "metadata": {},
     "output_type": "execute_result"
    }
   ],
   "source": [
    "cur.execute('SELECT count(transaction.id), substr(code_postal, 0, 3) FROM transaction LEFT JOIN bien ON transaction.bien_id = bien.id GROUP BY substr(code_postal, 0, 3) ORDER BY count(transaction.id) DESC LIMIT 10')\n",
    "result = cur.fetchall()\n",
    "\n",
    "df = pd.DataFrame(result, columns=['N° of transactions', 'Department'])\n",
    "df"
   ]
  },
  {
   "cell_type": "markdown",
   "id": "c96dbeb2-a82e-456a-8834-5ae6b19f6660",
   "metadata": {},
   "source": [
    "------------\n",
    "##  Les 10 départements où il y en a eu le moins"
   ]
  },
  {
   "cell_type": "markdown",
   "id": "a729bd0e-b1bc-4629-baf9-18c17e063ab8",
   "metadata": {},
   "source": [
    "```sql\n",
    "SELECT count(transaction.id), substr(code_postal, 0, 3) FROM transaction LEFT JOIN bien ON transaction.bien_id = bien.id GROUP BY substr(code_postal, 0, 3) ORDER BY count(transaction.id) ASC LIMIT 10\n",
    "```\n",
    "<br>"
   ]
  },
  {
   "cell_type": "code",
   "execution_count": 20,
   "id": "4dc4f2d4-a489-44e7-8772-b611ccf0dfef",
   "metadata": {
    "jupyter": {
     "source_hidden": true
    },
    "tags": []
   },
   "outputs": [
    {
     "data": {
      "text/html": [
       "<div>\n",
       "<style scoped>\n",
       "    .dataframe tbody tr th:only-of-type {\n",
       "        vertical-align: middle;\n",
       "    }\n",
       "\n",
       "    .dataframe tbody tr th {\n",
       "        vertical-align: top;\n",
       "    }\n",
       "\n",
       "    .dataframe thead th {\n",
       "        text-align: right;\n",
       "    }\n",
       "</style>\n",
       "<table border=\"1\" class=\"dataframe\">\n",
       "  <thead>\n",
       "    <tr style=\"text-align: right;\">\n",
       "      <th></th>\n",
       "      <th>N° of transactions</th>\n",
       "      <th>Department</th>\n",
       "    </tr>\n",
       "  </thead>\n",
       "  <tbody>\n",
       "    <tr>\n",
       "      <th>0</th>\n",
       "      <td>89</td>\n",
       "      <td>46</td>\n",
       "    </tr>\n",
       "    <tr>\n",
       "      <th>1</th>\n",
       "      <td>118</td>\n",
       "      <td>58</td>\n",
       "    </tr>\n",
       "    <tr>\n",
       "      <th>2</th>\n",
       "      <td>150</td>\n",
       "      <td>57</td>\n",
       "    </tr>\n",
       "    <tr>\n",
       "      <th>3</th>\n",
       "      <td>229</td>\n",
       "      <td>69</td>\n",
       "    </tr>\n",
       "    <tr>\n",
       "      <th>4</th>\n",
       "      <td>236</td>\n",
       "      <td>97</td>\n",
       "    </tr>\n",
       "    <tr>\n",
       "      <th>5</th>\n",
       "      <td>242</td>\n",
       "      <td>85</td>\n",
       "    </tr>\n",
       "    <tr>\n",
       "      <th>6</th>\n",
       "      <td>258</td>\n",
       "      <td>54</td>\n",
       "    </tr>\n",
       "    <tr>\n",
       "      <th>7</th>\n",
       "      <td>283</td>\n",
       "      <td>38</td>\n",
       "    </tr>\n",
       "    <tr>\n",
       "      <th>8</th>\n",
       "      <td>284</td>\n",
       "      <td>88</td>\n",
       "    </tr>\n",
       "    <tr>\n",
       "      <th>9</th>\n",
       "      <td>289</td>\n",
       "      <td>37</td>\n",
       "    </tr>\n",
       "  </tbody>\n",
       "</table>\n",
       "</div>"
      ],
      "text/plain": [
       "   N° of transactions Department\n",
       "0                  89         46\n",
       "1                 118         58\n",
       "2                 150         57\n",
       "3                 229         69\n",
       "4                 236         97\n",
       "5                 242         85\n",
       "6                 258         54\n",
       "7                 283         38\n",
       "8                 284         88\n",
       "9                 289         37"
      ]
     },
     "execution_count": 20,
     "metadata": {},
     "output_type": "execute_result"
    }
   ],
   "source": [
    "cur.execute('SELECT count(transaction.id), substr(code_postal, 0, 3) FROM transaction LEFT JOIN bien ON transaction.bien_id = bien.id GROUP BY substr(code_postal, 0, 3) ORDER BY count(transaction.id) ASC LIMIT 10')\n",
    "result = cur.fetchall()\n",
    "\n",
    "df = pd.DataFrame(result, columns=['N° of transactions', 'Department'])\n",
    "df"
   ]
  },
  {
   "cell_type": "markdown",
   "id": "1f454714-404a-4bde-89b8-95d830dd8736",
   "metadata": {},
   "source": [
    "--------------\n",
    "##  Prix moyen du mètre carré en IDF"
   ]
  },
  {
   "cell_type": "markdown",
   "id": "a42e6866-11b4-40d8-977d-3cf7b6493581",
   "metadata": {},
   "source": [
    "```sql\n",
    "\tSELECT (sum(transaction.valeur_fonciere) / sum(bien.surface_reel_bati)) FROM transaction LEFT JOIN bien ON transaction.bien_id = bien.id WHERE substr(bien.code_postal, 0, 3) IN ('75', '92', '93', '94')\n",
    "```\n",
    "<br>"
   ]
  },
  {
   "cell_type": "code",
   "execution_count": 10,
   "id": "2d36b7ec-2299-46bb-a4bd-94bf37e3779b",
   "metadata": {
    "jupyter": {
     "source_hidden": true
    },
    "tags": []
   },
   "outputs": [
    {
     "name": "stdout",
     "output_type": "stream",
     "text": [
      "The medium price in IDF is 4400.79/m2\n"
     ]
    }
   ],
   "source": [
    "cur.execute(\"SELECT (sum(transaction.valeur_fonciere) / sum(bien.surface_reel_bati)) FROM transaction LEFT JOIN bien ON transaction.bien_id = bien.id WHERE substr(bien.code_postal, 0, 3) IN ('75', '92', '93', '94');\")\n",
    "result = cur.fetchone()\n",
    "\n",
    "print(f'The medium price in IDF is {round(result[0], 2) or False}/m2')"
   ]
  },
  {
   "cell_type": "markdown",
   "id": "40aaeedf-9097-40df-8ac4-a21fb8718464",
   "metadata": {},
   "source": [
    "------------------\n",
    "##  Liste des 10 appartements les plus chers avec le département et le nombre de mètres carrés"
   ]
  },
  {
   "cell_type": "markdown",
   "id": "77fbeae9-ca10-4a4f-aced-7a7ee46a2bd9",
   "metadata": {},
   "source": [
    "```sql\n",
    "SELECT * FROM (\n",
    "\tSELECT valeur_fonciere, code_postal, surface_reel_bati FROM transaction LEFT JOIN bien on transaction.bien_id = bien.id ORDER BY transaction.valeur_fonciere DESC\n",
    ") x WHERE (-1 IN (valeur_fonciere)) IS NOT NULL LIMIT 10\n",
    "```\n",
    "<br>"
   ]
  },
  {
   "cell_type": "code",
   "execution_count": 11,
   "id": "94f444b2-19e4-47eb-aa10-800515454800",
   "metadata": {
    "jupyter": {
     "source_hidden": true
    },
    "tags": []
   },
   "outputs": [
    {
     "data": {
      "text/html": [
       "<div>\n",
       "<style scoped>\n",
       "    .dataframe tbody tr th:only-of-type {\n",
       "        vertical-align: middle;\n",
       "    }\n",
       "\n",
       "    .dataframe tbody tr th {\n",
       "        vertical-align: top;\n",
       "    }\n",
       "\n",
       "    .dataframe thead th {\n",
       "        text-align: right;\n",
       "    }\n",
       "</style>\n",
       "<table border=\"1\" class=\"dataframe\">\n",
       "  <thead>\n",
       "    <tr style=\"text-align: right;\">\n",
       "      <th></th>\n",
       "      <th>Land value</th>\n",
       "      <th>Postal code</th>\n",
       "      <th>Surface</th>\n",
       "    </tr>\n",
       "  </thead>\n",
       "  <tbody>\n",
       "    <tr>\n",
       "      <th>0</th>\n",
       "      <td>49000000.0</td>\n",
       "      <td>6190</td>\n",
       "      <td>70.0</td>\n",
       "    </tr>\n",
       "    <tr>\n",
       "      <th>1</th>\n",
       "      <td>49000000.0</td>\n",
       "      <td>6190</td>\n",
       "      <td>996.0</td>\n",
       "    </tr>\n",
       "    <tr>\n",
       "      <th>2</th>\n",
       "      <td>49000000.0</td>\n",
       "      <td>6190</td>\n",
       "      <td>0.0</td>\n",
       "    </tr>\n",
       "    <tr>\n",
       "      <th>3</th>\n",
       "      <td>47500000.0</td>\n",
       "      <td>6230</td>\n",
       "      <td>455.0</td>\n",
       "    </tr>\n",
       "    <tr>\n",
       "      <th>4</th>\n",
       "      <td>47500000.0</td>\n",
       "      <td>6230</td>\n",
       "      <td>NaN</td>\n",
       "    </tr>\n",
       "    <tr>\n",
       "      <th>5</th>\n",
       "      <td>47500000.0</td>\n",
       "      <td>6230</td>\n",
       "      <td>93.0</td>\n",
       "    </tr>\n",
       "    <tr>\n",
       "      <th>6</th>\n",
       "      <td>47500000.0</td>\n",
       "      <td>6230</td>\n",
       "      <td>0.0</td>\n",
       "    </tr>\n",
       "    <tr>\n",
       "      <th>7</th>\n",
       "      <td>47500000.0</td>\n",
       "      <td>6230</td>\n",
       "      <td>455.0</td>\n",
       "    </tr>\n",
       "    <tr>\n",
       "      <th>8</th>\n",
       "      <td>43200000.0</td>\n",
       "      <td>6200</td>\n",
       "      <td>NaN</td>\n",
       "    </tr>\n",
       "    <tr>\n",
       "      <th>9</th>\n",
       "      <td>43200000.0</td>\n",
       "      <td>6200</td>\n",
       "      <td>NaN</td>\n",
       "    </tr>\n",
       "  </tbody>\n",
       "</table>\n",
       "</div>"
      ],
      "text/plain": [
       "   Land value Postal code  Surface\n",
       "0  49000000.0        6190     70.0\n",
       "1  49000000.0        6190    996.0\n",
       "2  49000000.0        6190      0.0\n",
       "3  47500000.0        6230    455.0\n",
       "4  47500000.0        6230      NaN\n",
       "5  47500000.0        6230     93.0\n",
       "6  47500000.0        6230      0.0\n",
       "7  47500000.0        6230    455.0\n",
       "8  43200000.0        6200      NaN\n",
       "9  43200000.0        6200      NaN"
      ]
     },
     "execution_count": 11,
     "metadata": {},
     "output_type": "execute_result"
    }
   ],
   "source": [
    "cur.execute('SELECT * FROM (SELECT valeur_fonciere, code_postal, surface_reel_bati FROM transaction LEFT JOIN bien on transaction.bien_id = bien.id ORDER BY transaction.valeur_fonciere DESC) x WHERE (-1 IN (valeur_fonciere)) IS NOT NULL LIMIT 10;')\n",
    "result = cur.fetchall()\n",
    "\n",
    "df = pd.DataFrame(result, columns=['Land value', 'Postal code', 'Surface'])\n",
    "df"
   ]
  },
  {
   "cell_type": "markdown",
   "id": "2365119d-dbef-471e-9399-6721bbea60dd",
   "metadata": {},
   "source": [
    "--------------\n",
    "## Taux d’évolution du nombre de ventes entre le premier et le second trimestre de 2020"
   ]
  },
  {
   "cell_type": "markdown",
   "id": "e9ded899-03f2-4b61-bcc6-de44dba4d8e4",
   "metadata": {},
   "source": [
    "Evolution rate formula : $ {\\displaystyle t={\\frac {V_{A}-V_{D}}{|V_{D}|}}} $ where t is expressed in percentage (%)\n",
    "\n"
   ]
  },
  {
   "cell_type": "markdown",
   "id": "4178b157-19db-4ca1-bd11-dc57662be3c2",
   "metadata": {},
   "source": [
    "\n",
    "```sql\n",
    "SELECT (t2 - t1)::FLOAT / t1 FROM\n",
    "\t(SELECT \n",
    "\t\tsum(case when date_mutation <= '2020-03-31' then 1 else 0 end) as t1,\n",
    "\t\tsum(case when date_mutation BETWEEN '2020-04-01' AND '2020-06-30' then 1 else 0 end) as t2\n",
    "\tFROM transaction) AS ts\n",
    "```\n",
    "<br>"
   ]
  },
  {
   "cell_type": "code",
   "execution_count": 12,
   "id": "7c4b4190-5ea9-4942-8192-80b07f2ef697",
   "metadata": {
    "jupyter": {
     "source_hidden": true
    },
    "tags": []
   },
   "outputs": [
    {
     "name": "stdout",
     "output_type": "stream",
     "text": [
      "The evolution rate bewteen the first and second semester of 2020 is equal to -0.173%\n"
     ]
    }
   ],
   "source": [
    "cur.execute(\"SELECT (t2 - t1)::FLOAT / t1 FROM (SELECT sum(case when date_mutation <= '2020-03-31' then 1 else 0 end) as t1, sum(case when date_mutation BETWEEN '2020-04-01' AND '2020-06-30' then 1 else 0 end) as t2, sum(case when date_mutation BETWEEN '2020-07-01' AND '2020-09-30' then 1 else 0 end) as t3, sum(case when date_mutation >= '2020-10-01' then 1 else 0 end) as t4 FROM transaction) AS ts\")\n",
    "result = cur.fetchone()\n",
    "\n",
    "print(f'The evolution rate bewteen the first and second semester of 2020 is equal to {round(result[0], 3)}%')\n"
   ]
  },
  {
   "cell_type": "markdown",
   "id": "b5ff1f30-bd6a-4b6d-9254-6525449b9611",
   "metadata": {},
   "source": [
    "-------------\n",
    "##  Liste des communes où le nombre de ventes a augmenté d'au moins 20% entre le premier et le second trimestre de 2020"
   ]
  },
  {
   "cell_type": "markdown",
   "id": "b26d80af-f0a5-4dd2-a5ee-1119060d6058",
   "metadata": {},
   "source": [
    "```sql\n",
    "SELECT (t2 - t1)::FLOAT/ t1 , commune FROM\n",
    "\t(SELECT \n",
    "\t\tsum(case when date_mutation <= '2020-03-31' then 1 else 0 end) as t1,\n",
    "\t\tsum(case when date_mutation BETWEEN '2020-04-01' AND '2020-06-30' then 1 else 0 end) as t2,\n",
    "\t \tcommune\n",
    "\tFROM transaction\n",
    "\tLEFT JOIN bien ON transaction.bien_id = bien.id\n",
    "\tLEFT JOIN localisation ON bien.code_postal = localisation.code_postal\n",
    "\tLEFT JOIN commune ON localisation.code_commune = commune.code_commune\n",
    "\tGROUP BY commune.commune\n",
    "\t) ts WHERE (t2 - t1)::FLOAT/ t1 >= 0.2 AND commune IS NOT NULL ORDER BY (t2 - t1)::FLOAT/ t1 DESC;\n",
    "```\n",
    "<br>"
   ]
  },
  {
   "cell_type": "code",
   "execution_count": 21,
   "id": "721256c2-777d-4610-b3f1-cbc4ac71983c",
   "metadata": {
    "jupyter": {
     "source_hidden": true
    },
    "tags": []
   },
   "outputs": [
    {
     "data": {
      "text/html": [
       "<div>\n",
       "<style scoped>\n",
       "    .dataframe tbody tr th:only-of-type {\n",
       "        vertical-align: middle;\n",
       "    }\n",
       "\n",
       "    .dataframe tbody tr th {\n",
       "        vertical-align: top;\n",
       "    }\n",
       "\n",
       "    .dataframe thead th {\n",
       "        text-align: right;\n",
       "    }\n",
       "</style>\n",
       "<table border=\"1\" class=\"dataframe\">\n",
       "  <thead>\n",
       "    <tr style=\"text-align: right;\">\n",
       "      <th></th>\n",
       "      <th>Evolution rate</th>\n",
       "      <th>Municipality</th>\n",
       "    </tr>\n",
       "  </thead>\n",
       "  <tbody>\n",
       "    <tr>\n",
       "      <th>0</th>\n",
       "      <td>8.000000</td>\n",
       "      <td>SERAUCOURT LE GRAND</td>\n",
       "    </tr>\n",
       "    <tr>\n",
       "      <th>1</th>\n",
       "      <td>4.444444</td>\n",
       "      <td>SISSONNE</td>\n",
       "    </tr>\n",
       "    <tr>\n",
       "      <th>2</th>\n",
       "      <td>2.941176</td>\n",
       "      <td>MAGNIEU</td>\n",
       "    </tr>\n",
       "    <tr>\n",
       "      <th>3</th>\n",
       "      <td>2.571429</td>\n",
       "      <td>LA BOISSE</td>\n",
       "    </tr>\n",
       "    <tr>\n",
       "      <th>4</th>\n",
       "      <td>2.208333</td>\n",
       "      <td>NIVOLLET-MONTGRIFFON</td>\n",
       "    </tr>\n",
       "    <tr>\n",
       "      <th>5</th>\n",
       "      <td>1.952096</td>\n",
       "      <td>ARMIX</td>\n",
       "    </tr>\n",
       "    <tr>\n",
       "      <th>6</th>\n",
       "      <td>1.769231</td>\n",
       "      <td>ST-MARTIN-DU-FRESNE</td>\n",
       "    </tr>\n",
       "    <tr>\n",
       "      <th>7</th>\n",
       "      <td>1.720930</td>\n",
       "      <td>MONTANGES</td>\n",
       "    </tr>\n",
       "    <tr>\n",
       "      <th>8</th>\n",
       "      <td>1.428571</td>\n",
       "      <td>SAINT MICHEL</td>\n",
       "    </tr>\n",
       "    <tr>\n",
       "      <th>9</th>\n",
       "      <td>1.219355</td>\n",
       "      <td>MARSONNAS</td>\n",
       "    </tr>\n",
       "    <tr>\n",
       "      <th>10</th>\n",
       "      <td>0.915966</td>\n",
       "      <td>LOMPNAS</td>\n",
       "    </tr>\n",
       "    <tr>\n",
       "      <th>11</th>\n",
       "      <td>0.846154</td>\n",
       "      <td>LAVAQUERESSE</td>\n",
       "    </tr>\n",
       "    <tr>\n",
       "      <th>12</th>\n",
       "      <td>0.760000</td>\n",
       "      <td>SAINT-LAURENT-SUR-SAONE</td>\n",
       "    </tr>\n",
       "    <tr>\n",
       "      <th>13</th>\n",
       "      <td>0.734694</td>\n",
       "      <td>FONTENOY</td>\n",
       "    </tr>\n",
       "    <tr>\n",
       "      <th>14</th>\n",
       "      <td>0.732484</td>\n",
       "      <td>DORTAN</td>\n",
       "    </tr>\n",
       "    <tr>\n",
       "      <th>15</th>\n",
       "      <td>0.718310</td>\n",
       "      <td>SAINT-BENIGNE</td>\n",
       "    </tr>\n",
       "    <tr>\n",
       "      <th>16</th>\n",
       "      <td>0.647577</td>\n",
       "      <td>ANIZY LE GRAND</td>\n",
       "    </tr>\n",
       "    <tr>\n",
       "      <th>17</th>\n",
       "      <td>0.641509</td>\n",
       "      <td>FRANS</td>\n",
       "    </tr>\n",
       "    <tr>\n",
       "      <th>18</th>\n",
       "      <td>0.636364</td>\n",
       "      <td>GAUCHY</td>\n",
       "    </tr>\n",
       "    <tr>\n",
       "      <th>19</th>\n",
       "      <td>0.615385</td>\n",
       "      <td>OUTRIAZ</td>\n",
       "    </tr>\n",
       "  </tbody>\n",
       "</table>\n",
       "</div>"
      ],
      "text/plain": [
       "    Evolution rate             Municipality\n",
       "0         8.000000      SERAUCOURT LE GRAND\n",
       "1         4.444444                 SISSONNE\n",
       "2         2.941176                  MAGNIEU\n",
       "3         2.571429                LA BOISSE\n",
       "4         2.208333     NIVOLLET-MONTGRIFFON\n",
       "5         1.952096                    ARMIX\n",
       "6         1.769231      ST-MARTIN-DU-FRESNE\n",
       "7         1.720930                MONTANGES\n",
       "8         1.428571             SAINT MICHEL\n",
       "9         1.219355                MARSONNAS\n",
       "10        0.915966                  LOMPNAS\n",
       "11        0.846154             LAVAQUERESSE\n",
       "12        0.760000  SAINT-LAURENT-SUR-SAONE\n",
       "13        0.734694                 FONTENOY\n",
       "14        0.732484                   DORTAN\n",
       "15        0.718310            SAINT-BENIGNE\n",
       "16        0.647577           ANIZY LE GRAND\n",
       "17        0.641509                    FRANS\n",
       "18        0.636364                   GAUCHY\n",
       "19        0.615385                  OUTRIAZ"
      ]
     },
     "execution_count": 21,
     "metadata": {},
     "output_type": "execute_result"
    }
   ],
   "source": [
    "cur.execute(\"SELECT (t2 - t1)::FLOAT/ t1 , commune FROM (SELECT sum(case when date_mutation <= '2020-03-31' then 1 else 0 end) as t1,sum(case when date_mutation BETWEEN '2020-04-01' AND '2020-06-30' then 1 else 0 end) as t2, commune FROM transaction LEFT JOIN bien ON transaction.bien_id = bien.id LEFT JOIN localisation ON bien.code_postal = localisation.code_postal LEFT JOIN commune ON localisation.code_commune = commune.code_commune GROUP BY commune.commune) ts WHERE (t2 - t1)::FLOAT/ t1 >= 0.2 AND commune IS NOT NULL ORDER BY (t2 - t1)::FLOAT/ t1 DESC LIMIT 20;\")\n",
    "result = cur.fetchall()\n",
    "\n",
    "df = pd.DataFrame(result, columns=['Evolution rate', 'Municipality'])\n",
    "df"
   ]
  }
 ],
 "metadata": {
  "kernelspec": {
   "display_name": "Python 3",
   "language": "python",
   "name": "python3"
  },
  "language_info": {
   "codemirror_mode": {
    "name": "ipython",
    "version": 3
   },
   "file_extension": ".py",
   "mimetype": "text/x-python",
   "name": "python",
   "nbconvert_exporter": "python",
   "pygments_lexer": "ipython3",
   "version": "3.8.8"
  }
 },
 "nbformat": 4,
 "nbformat_minor": 5
}
