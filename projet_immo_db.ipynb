{
 "cells": [
  {
   "cell_type": "markdown",
   "id": "d6c75f67-e2b1-4dfc-adee-cf5bc57c4b4a",
   "metadata": {},
   "source": [
    "# Projet immo au 27.07.20"
   ]
  },
  {
   "cell_type": "markdown",
   "id": "02999b2d-9b63-4772-9bc1-9b6c21c686f9",
   "metadata": {},
   "source": [
    "> File written by Théo."
   ]
  },
  {
   "cell_type": "markdown",
   "id": "5426f66a-4b90-41c3-98e0-50cbcd928f26",
   "metadata": {},
   "source": [
    "## Nombre d'appartements et maisons vendus en 2020"
   ]
  },
  {
   "cell_type": "markdown",
   "id": "926ccf06-5a7b-4868-9d8c-2aaea0dd7873",
   "metadata": {},
   "source": [
    "```sql\n",
    "SELECT sum(total_houses + total_flats) AS sub_total, total_houses, total_flats FROM (\n",
    "\tSELECT * FROM \n",
    "\t(\n",
    "\t\tSELECT sum(case when bien.code_type_local = 1 then 1 else 0 end) AS total_houses, \n",
    "\t\tsum(case when bien.code_type_local = 2 then 1 else 0 end) AS total_flats\n",
    "\t\tFROM transaction LEFT JOIN bien ON transaction.bien_id = bien.id \n",
    "\t) x \n",
    ") y GROUP BY total_flats, total_houses;\n",
    "```\n",
    "<br>"
   ]
  },
  {
   "cell_type": "markdown",
   "id": "8f9b26cd-e362-4c62-9b74-e5daff1e6700",
   "metadata": {},
   "source": [
    "## Nombre de bien vendu par trimestre"
   ]
  },
  {
   "cell_type": "markdown",
   "id": "d3e18d82-f6b6-4101-9854-5c1b9749a91d",
   "metadata": {},
   "source": [
    "```sql\n",
    "SELECT \n",
    "\tsum(case when date_mutation <= '2020-03-31' then 1 else 0 end) as t1,\n",
    "\tsum(case when date_mutation BETWEEN '2020-04-01' AND '2020-06-30' then 1 else 0 end) as t2,\n",
    "\tsum(case when date_mutation BETWEEN '2020-07-01' AND '2020-09-30' then 1 else 0 end) as t3,\n",
    "\tsum(case when date_mutation >= '2020-10-01' then 1 else 0 end) as t4\n",
    "FROM transaction;\n",
    "```\n",
    "<br>"
   ]
  },
  {
   "cell_type": "markdown",
   "id": "8803db46-2fa2-4561-91bb-1f4f4c1bd631",
   "metadata": {},
   "source": [
    "##  Proportion des ventes de biens par trimestre par typologie de bien"
   ]
  },
  {
   "cell_type": "markdown",
   "id": "549717bd-a9a3-4f20-854b-231be5f068b9",
   "metadata": {},
   "source": [
    "```sql\n",
    "# Expressed as absolute value :\n",
    "SELECT \n",
    "\tsum(case when date_mutation <= '2020-03-31' then 1 else 0 end) as t1,\n",
    "\tsum(case when date_mutation BETWEEN '2020-04-01' AND '2020-06-30' then 1 else 0 end) as t2,\n",
    "\tsum(case when date_mutation BETWEEN '2020-07-01' AND '2020-09-30' then 1 else 0 end) as t3,\n",
    "\tsum(case when date_mutation >= '2020-10-01' then 1 else 0 end) as t4\n",
    "FROM transaction LEFT JOIN bien on transaction.bien_id = bien.id GROUP BY bien.code_type_local;\n",
    "\n",
    "# Expressed as relative value :\n",
    "```\n",
    "<br>"
   ]
  },
  {
   "cell_type": "markdown",
   "id": "fe2caac2-bf12-4f6d-9f72-8549205ea22d",
   "metadata": {},
   "source": [
    "##  Proportion d’appartements vendus par nombre de pièces"
   ]
  },
  {
   "cell_type": "markdown",
   "id": "3720caa3-3f9e-4581-a37c-ef2a1968a835",
   "metadata": {},
   "source": [
    "```sql\n",
    "SELECT count(transaction.id), bien.nb_pieces_principales FROM transaction LEFT JOIN bien ON transaction.bien_id = bien.id WHERE bien.code_type_local = 2 GROUP BY bien.nb_pieces_principales ORDER BY bien.nb_pieces_principales ASC;\n",
    "```\n",
    "<br>"
   ]
  },
  {
   "cell_type": "markdown",
   "id": "6f54cfc5-e077-4112-8ac3-d437205c55f8",
   "metadata": {},
   "source": [
    "## Les 10 départements où il y a eu le plus de ventes immobilières"
   ]
  },
  {
   "cell_type": "markdown",
   "id": "f042e155-fe7e-4aef-b746-43d1c56c937c",
   "metadata": {},
   "source": [
    "```sql\n",
    "SELECT count(transaction.id), substr(code_postal, 0, 3) FROM transaction LEFT JOIN bien ON transaction.bien_id = bien.id GROUP BY substr(code_postal, 0, 3) ORDER BY count(transaction.id) DESC LIMIT 10\n",
    "```\n",
    "<br>"
   ]
  },
  {
   "cell_type": "markdown",
   "id": "53a6a310-ec6e-497e-a430-407a5a06d284",
   "metadata": {},
   "source": [
    "##  Les 10 départements où il y en a eu le moins"
   ]
  },
  {
   "cell_type": "markdown",
   "id": "84ba7b5b-233a-4738-a0e8-3ef7c9f6a80c",
   "metadata": {},
   "source": [
    "```sql\n",
    "SELECT count(transaction.id), substr(code_postal, 0, 3) FROM transaction LEFT JOIN bien ON transaction.bien_id = bien.id GROUP BY substr(code_postal, 0, 3) ORDER BY count(transaction.id) ASC LIMIT 10\n",
    "```\n",
    "<br>"
   ]
  },
  {
   "cell_type": "markdown",
   "id": "7455f339-fab3-4440-aacc-7fbea7703125",
   "metadata": {},
   "source": [
    "##  Prix moyen du mètre carré en IDF"
   ]
  },
  {
   "cell_type": "markdown",
   "id": "7a1256ba-8f67-4b16-9a46-9b02c84dcf4e",
   "metadata": {},
   "source": [
    "```sql\n",
    "\tSELECT (sum(transaction.valeur_fonciere) / sum(bien.surface_reel_bati)) FROM transaction LEFT JOIN bien ON transaction.bien_id = bien.id WHERE substr(bien.code_postal, 0, 3) IN ('75', '92', '93', '94', '78', '77', '91', '95')\n",
    "```\n",
    "<br>"
   ]
  },
  {
   "cell_type": "markdown",
   "id": "0d841552-fa3e-4e7a-a0e7-c791652fd16d",
   "metadata": {},
   "source": [
    "##  Liste des 10 appartements les plus chers avec le département et le nombre de mètres carrés"
   ]
  },
  {
   "cell_type": "markdown",
   "id": "25454c72-3de6-4fa5-a11e-2b6536b8c18e",
   "metadata": {},
   "source": [
    "```sql\n",
    "SELECT * FROM (\n",
    "\tSELECT valeur_fonciere, code_postal, surface_reel_bati FROM transaction LEFT JOIN bien on transaction.bien_id = bien.id ORDER BY transaction.valeur_fonciere DESC\n",
    ") x WHERE (-1 IN (valeur_fonciere)) IS NOT NULL LIMIT 10\n",
    "```\n",
    "<br>"
   ]
  },
  {
   "cell_type": "markdown",
   "id": "4a47a6e1-794e-4390-84ce-b7d946e94eab",
   "metadata": {},
   "source": [
    "## Taux d’évolution du nombre de ventes entre le premier et le second trimestre de 2020"
   ]
  },
  {
   "cell_type": "markdown",
   "id": "c2eb03c4-87ad-42dd-a584-70852b4e91ce",
   "metadata": {},
   "source": [
    "Evolution rate formula : $ {\\displaystyle t={\\frac {V_{A}-V_{D}}{|V_{D}|}}} $ where t is expressed in percentage (%)"
   ]
  },
  {
   "cell_type": "markdown",
   "id": "4491e99e-8071-4937-832a-0ccf112ad5a7",
   "metadata": {},
   "source": [
    "\n",
    "```sql\n",
    "SELECT (t2 - t1)::FLOAT / t1 FROM\n",
    "\t(SELECT \n",
    "\t\tsum(case when date_mutation <= '2020-03-31' then 1 else 0 end) as t1,\n",
    "\t\tsum(case when date_mutation BETWEEN '2020-04-01' AND '2020-06-30' then 1 else 0 end) as t2\n",
    "\tFROM transaction) AS ts\n",
    "```\n",
    "<br>"
   ]
  },
  {
   "cell_type": "markdown",
   "id": "12aca5bb-af3f-4cf6-9ee5-f690c09c1649",
   "metadata": {},
   "source": [
    "##  Liste des communes où le nombre de ventes a augmenté d'au moins 20% entre le premier et le second trimestre de 2020"
   ]
  },
  {
   "cell_type": "markdown",
   "id": "e76eb989-ee8a-45b7-b02e-b66473fe2498",
   "metadata": {},
   "source": [
    "```sql\n",
    "SELECT (t2 - t1)::FLOAT/ t1 , commune FROM\n",
    "\t(SELECT \n",
    "            sum(case when date_mutation <= '2020-03-31' then 1 else 0 end) as t1,\n",
    "            sum(case when date_mutation BETWEEN '2020-04-01' AND '2020-06-30' then 1 else 0 end) as t2,\n",
    "            commune\n",
    "        FROM transaction\n",
    "            LEFT JOIN bien ON transaction.bien_id = bien.id\n",
    "            LEFT JOIN localisation ON bien.code_postal = localisation.code_postal\n",
    "            LEFT JOIN commune ON localisation.code_commune = commune.code_commune\n",
    "        GROUP BY commune.commune\n",
    "\t) ts WHERE (t2 - t1)::FLOAT/ t1 >= 0.2 AND commune IS NOT NULL ORDER BY (t2 - t1)::FLOAT/ t1 DESC;\n",
    "```\n",
    "<br>"
   ]
  }
 ],
 "metadata": {
  "kernelspec": {
   "display_name": "Python 3",
   "language": "python",
   "name": "python3"
  },
  "language_info": {
   "codemirror_mode": {
    "name": "ipython",
    "version": 3
   },
   "file_extension": ".py",
   "mimetype": "text/x-python",
   "name": "python",
   "nbconvert_exporter": "python",
   "pygments_lexer": "ipython3",
   "version": "3.8.8"
  }
 },
 "nbformat": 4,
 "nbformat_minor": 5
}
