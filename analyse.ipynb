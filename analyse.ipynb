{
 "cells": [
  {
   "cell_type": "markdown",
   "id": "0ff5c5ae-d5ca-4f46-b3f2-5e01513e5436",
   "metadata": {},
   "source": [
    "# Rendu de projet données immobilières"
   ]
  },
  {
   "cell_type": "markdown",
   "id": "646f94dd-c86e-42f0-964d-2dad81c217e3",
   "metadata": {},
   "source": [
    "Useful links : [Subject](https://simplonline.co/briefs/327207de-b68d-4563-bc7a-249a7637782d) | [Original dataset (.csv)](https://www.data.gouv.fr/fr/datasets/5c4ae55a634f4117716d5656/) <br>\n",
    "This project was realized by : Adil, Marianne, Nidal, Théo & Zohra"
   ]
  },
  {
   "cell_type": "markdown",
   "id": "8e1f1b9b-cea3-45ed-aecf-1902e64a9c2f",
   "metadata": {},
   "source": [
    "----\n",
    "## 📍 TO DO :\n",
    "- Find a solution for data type of col `Code postal`\n",
    "- Last question (n. 12)\n",
    "- Add links to md\n",
    "- Modify data dict accordingly\n",
    "- Does we need to present data in formal way ?\n",
    "<br>\n",
    "<br>\n",
    "-----"
   ]
  },
  {
   "cell_type": "markdown",
   "id": "ef608d0e-8da7-4c80-ae87-68003c4d5ee6",
   "metadata": {},
   "source": [
    "### Table of content :\n",
    "> 💡 Links are working if you clik them in theo's GitHub repo\n",
    "- [Dictionnaire de données - Data Dictionary]()\n",
    "- [Modèle Conceptuel de données (MCD)]()\n",
    "- [Modèle Physique de données (MPD)]()"
   ]
  },
  {
   "cell_type": "markdown",
   "id": "065c0e58-0cd4-4561-ba94-5edbef7810b4",
   "metadata": {},
   "source": [
    "### Table of questions :\n",
    "1. [Nombre d'appartements et maisons vendus en 2020](#) \n",
    "2. [Nombre de biens vendu par trimestre](#)\n",
    "3. [Proportion des ventes de biens par trimestre par typologie de bien](#)\n",
    "4. [Proportion d’appartements vendus par nombre de pièces](#)\n",
    "5. [Les 10 départements où il y a eu le plus de ventes immobilières](#)\n",
    "6. [Les 10 départements où il y en a eu le moins](#)\n",
    "7. [Prix au m2 en IDF](#)\n",
    "8. [Liste des 10 appartements les plus chers avec le département et le nombre de mètres carrés](#)\n",
    "9. [Taux d’évolution du nombre de ventes entre le premier et le second trimestre de 2020](#)\n",
    "10. [Liste des communes où le nombre de ventes a augmenté d'au moins 20% entre le premier et le second trimestre de 2020](#)"
   ]
  },
  {
   "cell_type": "code",
   "execution_count": 217,
   "id": "c27e46ca-92cc-4436-896b-ad33f60a444f",
   "metadata": {
    "jupyter": {
     "source_hidden": true
    },
    "tags": []
   },
   "outputs": [
    {
     "name": "stdout",
     "output_type": "stream",
     "text": [
      "Connection established with postgres.\n"
     ]
    }
   ],
   "source": [
    "# PG connection\n",
    "import psycopg2 as pgconn\n",
    "\n",
    "def connect():\n",
    "    try:\n",
    "        conn = psycopg2.connect(\n",
    "            host='localhost',\n",
    "            database='immo_db',\n",
    "            user='postgres',\n",
    "            password=''\n",
    "        )\n",
    "    except (Exception, psycopg2.DatabaseError) as error:\n",
    "        print('⚠︎ Postgres connection error')\n",
    "        print(error)\n",
    "    finally:\n",
    "        print('Connection established with postgres.')\n",
    "        return conn\n",
    "    \n",
    "conn = connect()\n",
    "conn.autocommit = True\n",
    "cur = conn.cursor()\n",
    "\n",
    "# Import pandas\n",
    "import pandas as pd\n",
    "\n",
    "# Import numpy\n",
    "import numpy as np\n",
    "\n",
    "# Import seaborn\n",
    "import seaborn as sn"
   ]
  },
  {
   "cell_type": "markdown",
   "id": "5e9993d9-8874-4681-9b04-2b3d12da65c3",
   "metadata": {},
   "source": [
    "----------\n",
    "## Nombre d'appartements et maisons vendus en 2020"
   ]
  },
  {
   "cell_type": "markdown",
   "id": "c7d37184-7581-4357-ba56-9bb99d03969c",
   "metadata": {},
   "source": [
    "```sql\n",
    "SELECT sum(total_houses + total_flats) AS sub_total, total_houses, total_flats FROM (\n",
    "\tSELECT * FROM \n",
    "\t(\n",
    "\t\tSELECT sum(case when bien.code_type_local = 1 then 1 else 0 end) AS total_houses, \n",
    "\t\tsum(case when bien.code_type_local = 2 then 1 else 0 end) AS total_flats\n",
    "\t\tFROM transaction LEFT JOIN bien ON transaction.bien_id = bien.id \n",
    "\t) x \n",
    ") y GROUP BY total_flats, total_houses;\n",
    "```"
   ]
  },
  {
   "cell_type": "code",
   "execution_count": 220,
   "id": "77f18c82-29bb-45ba-b13b-3c6fdd4badd2",
   "metadata": {
    "tags": []
   },
   "outputs": [
    {
     "data": {
      "text/html": [
       "<div>\n",
       "<style scoped>\n",
       "    .dataframe tbody tr th:only-of-type {\n",
       "        vertical-align: middle;\n",
       "    }\n",
       "\n",
       "    .dataframe tbody tr th {\n",
       "        vertical-align: top;\n",
       "    }\n",
       "\n",
       "    .dataframe thead th {\n",
       "        text-align: right;\n",
       "    }\n",
       "</style>\n",
       "<table border=\"1\" class=\"dataframe\">\n",
       "  <thead>\n",
       "    <tr style=\"text-align: right;\">\n",
       "      <th></th>\n",
       "      <th>Total</th>\n",
       "      <th>Sub-total houses</th>\n",
       "      <th>Sub-total flats</th>\n",
       "    </tr>\n",
       "  </thead>\n",
       "  <tbody>\n",
       "    <tr>\n",
       "      <th>0</th>\n",
       "      <td>299</td>\n",
       "      <td>217</td>\n",
       "      <td>82</td>\n",
       "    </tr>\n",
       "  </tbody>\n",
       "</table>\n",
       "</div>"
      ],
      "text/plain": [
       "  Total Sub-total houses Sub-total flats\n",
       "0   299              217              82"
      ]
     },
     "execution_count": 220,
     "metadata": {},
     "output_type": "execute_result"
    }
   ],
   "source": [
    "cur.execute('SELECT sum(total_houses + total_flats) AS sub_total, total_houses, total_flats FROM (SELECT * FROM (SELECT sum(case when bien.code_type_local = 1 then 1 else 0 end) AS total_houses, sum(case when bien.code_type_local = 2 then 1 else 0 end) AS total_flats FROM transaction LEFT JOIN bien ON transaction.bien_id = bien.id ) x ) y GROUP BY total_flats, total_houses;')\n",
    "result = cur.fetchone()\n",
    "\n",
    "df = pd.DataFrame(result)\n",
    "df = df.transpose()\n",
    "df = df.rename(columns={0: 'Total', 1: 'Sub-total houses', 2: 'Sub-total flats'})\n",
    "\n",
    "df"
   ]
  },
  {
   "cell_type": "markdown",
   "id": "ed43ac76-1f5a-4f33-b1aa-a110022328f8",
   "metadata": {},
   "source": [
    "------------\n",
    "##  Nombre de biens vendu par trimestre "
   ]
  },
  {
   "cell_type": "markdown",
   "id": "961cf96a-64ed-4efc-a2d4-9251dfec0b55",
   "metadata": {},
   "source": [
    "```sql\n",
    "SELECT \n",
    "\tsum(case when date_mutation <= '2020-03-31' then 1 else 0 end) as t1,\n",
    "\tsum(case when date_mutation BETWEEN '2020-04-01' AND '2020-06-30' then 1 else 0 end) as t2,\n",
    "\tsum(case when date_mutation BETWEEN '2020-07-01' AND '2020-09-30' then 1 else 0 end) as t3,\n",
    "\tsum(case when date_mutation >= '2020-10-01' then 1 else 0 end) as t4\n",
    "FROM transaction;\n",
    "```"
   ]
  },
  {
   "cell_type": "code",
   "execution_count": 211,
   "id": "f97d5e54-3de2-42e5-b94a-05a0654f9204",
   "metadata": {
    "jupyter": {
     "source_hidden": true
    },
    "tags": []
   },
   "outputs": [
    {
     "data": {
      "text/html": [
       "<div>\n",
       "<style scoped>\n",
       "    .dataframe tbody tr th:only-of-type {\n",
       "        vertical-align: middle;\n",
       "    }\n",
       "\n",
       "    .dataframe tbody tr th {\n",
       "        vertical-align: top;\n",
       "    }\n",
       "\n",
       "    .dataframe thead th {\n",
       "        text-align: right;\n",
       "    }\n",
       "</style>\n",
       "<table border=\"1\" class=\"dataframe\">\n",
       "  <thead>\n",
       "    <tr style=\"text-align: right;\">\n",
       "      <th></th>\n",
       "      <th>T1</th>\n",
       "      <th>T2</th>\n",
       "      <th>T3</th>\n",
       "      <th>T4</th>\n",
       "    </tr>\n",
       "  </thead>\n",
       "  <tbody>\n",
       "    <tr>\n",
       "      <th>2020</th>\n",
       "      <td>1000</td>\n",
       "      <td>0</td>\n",
       "      <td>0</td>\n",
       "      <td>0</td>\n",
       "    </tr>\n",
       "  </tbody>\n",
       "</table>\n",
       "</div>"
      ],
      "text/plain": [
       "        T1  T2  T3  T4\n",
       "2020  1000   0   0   0"
      ]
     },
     "execution_count": 211,
     "metadata": {},
     "output_type": "execute_result"
    }
   ],
   "source": [
    "cur.execute(\"SELECT sum(case when date_mutation <= '2020-03-31' then 1 else 0 end) as t1, sum(case when date_mutation BETWEEN '2020-04-01' AND '2020-06-30' then 1 else 0 end) as t2, sum(case when date_mutation BETWEEN '2020-07-01' AND '2020-09-30' then 1 else 0 end) as t3, sum(case when date_mutation >= '2020-10-01' then 1 else 0 end) as t4 FROM transaction\")\n",
    "result = cur.fetchone()\n",
    "\n",
    "df = pd.DataFrame(result)\n",
    "df = df.transpose()\n",
    "df = df.rename(columns={0: 'T1', 1: 'T2', 2: 'T3', 3: 'T4'}, index={0 : '2020'})\n",
    "df"
   ]
  },
  {
   "cell_type": "markdown",
   "id": "885ff030-c0b8-4e69-99e8-02c569b9f1c3",
   "metadata": {},
   "source": [
    "-----------\n",
    "##  Proportion des ventes de biens par trimestre par typologie de bien"
   ]
  },
  {
   "cell_type": "markdown",
   "id": "4bd52d04-dacd-4354-bf6f-8833a98bb22a",
   "metadata": {},
   "source": [
    "```sql\n",
    "SELECT \n",
    "\tsum(case when date_mutation <= '2020-03-31' then 1 else 0 end) as t1,\n",
    "\tsum(case when date_mutation BETWEEN '2020-04-01' AND '2020-06-30' then 1 else 0 end) as t2,\n",
    "\tsum(case when date_mutation BETWEEN '2020-07-01' AND '2020-09-30' then 1 else 0 end) as t3,\n",
    "\tsum(case when date_mutation >= '2020-10-01' then 1 else 0 end) as t4\n",
    "FROM transaction LEFT JOIN bien on transaction.bien_id = bien.id GROUP BY bien.code_type_local;\n",
    "```"
   ]
  },
  {
   "cell_type": "code",
   "execution_count": 215,
   "id": "fafb3d1a-27be-4e10-b2c5-96fa8ec5b04b",
   "metadata": {
    "jupyter": {
     "source_hidden": true
    },
    "tags": []
   },
   "outputs": [
    {
     "data": {
      "text/html": [
       "<div>\n",
       "<style scoped>\n",
       "    .dataframe tbody tr th:only-of-type {\n",
       "        vertical-align: middle;\n",
       "    }\n",
       "\n",
       "    .dataframe tbody tr th {\n",
       "        vertical-align: top;\n",
       "    }\n",
       "\n",
       "    .dataframe thead th {\n",
       "        text-align: right;\n",
       "    }\n",
       "</style>\n",
       "<table border=\"1\" class=\"dataframe\">\n",
       "  <thead>\n",
       "    <tr style=\"text-align: right;\">\n",
       "      <th></th>\n",
       "      <th>T1</th>\n",
       "      <th>T2</th>\n",
       "      <th>T3</th>\n",
       "      <th>T4</th>\n",
       "    </tr>\n",
       "  </thead>\n",
       "  <tbody>\n",
       "    <tr>\n",
       "      <th>Houses</th>\n",
       "      <td>602</td>\n",
       "      <td>0</td>\n",
       "      <td>0</td>\n",
       "      <td>0</td>\n",
       "    </tr>\n",
       "    <tr>\n",
       "      <th>Flats</th>\n",
       "      <td>217</td>\n",
       "      <td>0</td>\n",
       "      <td>0</td>\n",
       "      <td>0</td>\n",
       "    </tr>\n",
       "    <tr>\n",
       "      <th>Isolated dependancy</th>\n",
       "      <td>76</td>\n",
       "      <td>0</td>\n",
       "      <td>0</td>\n",
       "      <td>0</td>\n",
       "    </tr>\n",
       "    <tr>\n",
       "      <th>Industrial space</th>\n",
       "      <td>23</td>\n",
       "      <td>0</td>\n",
       "      <td>0</td>\n",
       "      <td>0</td>\n",
       "    </tr>\n",
       "    <tr>\n",
       "      <th>Not specified</th>\n",
       "      <td>82</td>\n",
       "      <td>0</td>\n",
       "      <td>0</td>\n",
       "      <td>0</td>\n",
       "    </tr>\n",
       "  </tbody>\n",
       "</table>\n",
       "</div>"
      ],
      "text/plain": [
       "                      T1  T2  T3  T4\n",
       "Houses               602   0   0   0\n",
       "Flats                217   0   0   0\n",
       "Isolated dependancy   76   0   0   0\n",
       "Industrial space      23   0   0   0\n",
       "Not specified         82   0   0   0"
      ]
     },
     "execution_count": 215,
     "metadata": {},
     "output_type": "execute_result"
    }
   ],
   "source": [
    "cur.execute(\"SELECT sum(case when date_mutation <= '2020-03-31' then 1 else 0 end) as t1, sum(case when date_mutation BETWEEN '2020-04-01' AND '2020-06-30' then 1 else 0 end) as t2, sum(case when date_mutation BETWEEN '2020-07-01' AND '2020-09-30' then 1 else 0 end) as t3, sum(case when date_mutation >= '2020-10-01' then 1 else 0 end) as t4 FROM transaction LEFT JOIN bien on transaction.bien_id = bien.id GROUP BY bien.code_type_local;\")\n",
    "result = cur.fetchall()\n",
    "\n",
    "df = pd.DataFrame(result, columns=['T1', 'T2', 'T3', 'T4'], index=['Houses', 'Flats', 'Isolated dependancy', 'Industrial space', 'Not specified'])\n",
    "df"
   ]
  },
  {
   "cell_type": "markdown",
   "id": "181e7036-6cf1-4625-b2db-238cc42cd109",
   "metadata": {},
   "source": [
    "--------------\n",
    "##  Proportion d’appartements vendus par nombre de pièces"
   ]
  },
  {
   "cell_type": "markdown",
   "id": "50466baa-f395-49ad-94bc-d1487e627f9f",
   "metadata": {},
   "source": [
    "```sql\n",
    "SELECT count(transaction.id), bien.nb_pieces_principales FROM transaction LEFT JOIN bien ON transaction.bien_id = bien.id WHERE bien.code_type_local = 2 GROUP BY bien.nb_pieces_principales ORDER BY bien.nb_pieces_principales;\n",
    "```"
   ]
  },
  {
   "cell_type": "code",
   "execution_count": 144,
   "id": "6771355e-f5ba-40b5-9991-3c07785f15ee",
   "metadata": {
    "jupyter": {
     "source_hidden": true
    },
    "tags": []
   },
   "outputs": [
    {
     "data": {
      "text/html": [
       "<div>\n",
       "<style scoped>\n",
       "    .dataframe tbody tr th:only-of-type {\n",
       "        vertical-align: middle;\n",
       "    }\n",
       "\n",
       "    .dataframe tbody tr th {\n",
       "        vertical-align: top;\n",
       "    }\n",
       "\n",
       "    .dataframe thead th {\n",
       "        text-align: right;\n",
       "    }\n",
       "</style>\n",
       "<table border=\"1\" class=\"dataframe\">\n",
       "  <thead>\n",
       "    <tr style=\"text-align: right;\">\n",
       "      <th></th>\n",
       "      <th>Total nb of flats</th>\n",
       "      <th>Nb of rooms</th>\n",
       "    </tr>\n",
       "  </thead>\n",
       "  <tbody>\n",
       "    <tr>\n",
       "      <th>0</th>\n",
       "      <td>6</td>\n",
       "      <td>1</td>\n",
       "    </tr>\n",
       "    <tr>\n",
       "      <th>1</th>\n",
       "      <td>23</td>\n",
       "      <td>2</td>\n",
       "    </tr>\n",
       "    <tr>\n",
       "      <th>2</th>\n",
       "      <td>29</td>\n",
       "      <td>3</td>\n",
       "    </tr>\n",
       "    <tr>\n",
       "      <th>3</th>\n",
       "      <td>17</td>\n",
       "      <td>4</td>\n",
       "    </tr>\n",
       "    <tr>\n",
       "      <th>4</th>\n",
       "      <td>7</td>\n",
       "      <td>5</td>\n",
       "    </tr>\n",
       "  </tbody>\n",
       "</table>\n",
       "</div>"
      ],
      "text/plain": [
       "   Total nb of flats  Nb of rooms\n",
       "0                  6            1\n",
       "1                 23            2\n",
       "2                 29            3\n",
       "3                 17            4\n",
       "4                  7            5"
      ]
     },
     "execution_count": 144,
     "metadata": {},
     "output_type": "execute_result"
    }
   ],
   "source": [
    "cur.execute('SELECT count(transaction.id), bien.nb_pieces_principales FROM transaction LEFT JOIN bien ON transaction.bien_id = bien.id WHERE bien.code_type_local = 2 GROUP BY bien.nb_pieces_principales ORDER BY bien.nb_pieces_principales;')\n",
    "result = cur.fetchall()\n",
    "\n",
    "df = pd.DataFrame(result, columns=['Total nb of flats', 'Nb of rooms'])\n",
    "df"
   ]
  },
  {
   "cell_type": "markdown",
   "id": "7b273d7f-a289-46ad-8c64-4a192abaa314",
   "metadata": {},
   "source": [
    "------------\n",
    "## Les 10 départements où il y a eu le plus de ventes immobilières"
   ]
  },
  {
   "cell_type": "markdown",
   "id": "396d1206-4546-442e-866a-3be08a30e254",
   "metadata": {},
   "source": [
    "❌ ERR : Attention, trouver une solution pour ne pas perdre le CP (cast en float auto de `pd.read_csv()` dénature la colonne `Code postal` : ie. les 9 premiers départements disparaissent) "
   ]
  },
  {
   "cell_type": "markdown",
   "id": "5b1a007a-6b85-4d9b-9ba3-552df05abfd1",
   "metadata": {},
   "source": [
    "```sql\n",
    "SELECT count(transaction.id), substr(code_postal, 0, 3) FROM transaction LEFT JOIN bien ON transaction.bien_id = bien.id GROUP BY substr(code_postal, 0, 3) ORDER BY count(transaction.id) DESC LIMIT 10\n",
    "```"
   ]
  },
  {
   "cell_type": "markdown",
   "id": "c96dbeb2-a82e-456a-8834-5ae6b19f6660",
   "metadata": {},
   "source": [
    "------------\n",
    "##  Les 10 départements où il y en a eu le moins"
   ]
  },
  {
   "cell_type": "markdown",
   "id": "a729bd0e-b1bc-4629-baf9-18c17e063ab8",
   "metadata": {},
   "source": [
    "```sql\n",
    "SELECT count(transaction.id), substr(code_postal, 0, 3) FROM transaction LEFT JOIN bien ON transaction.bien_id = bien.id GROUP BY substr(code_postal, 0, 3) ORDER BY count(transaction.id) ASC LIMIT 10\n",
    "```"
   ]
  },
  {
   "cell_type": "markdown",
   "id": "1f454714-404a-4bde-89b8-95d830dd8736",
   "metadata": {},
   "source": [
    "--------------\n",
    "##  Prix moyen du mètre carré en IDF"
   ]
  },
  {
   "cell_type": "markdown",
   "id": "a42e6866-11b4-40d8-977d-3cf7b6493581",
   "metadata": {},
   "source": [
    "```sql\n",
    "\tSELECT (sum(transaction.valeur_fonciere) / sum(bien.surface_reel_bati)) FROM transaction LEFT JOIN bien ON transaction.bien_id = bien.id WHERE substr(bien.code_postal, 0, 3) IN ('75', '92', '93', '94')\n",
    "```"
   ]
  },
  {
   "cell_type": "code",
   "execution_count": 167,
   "id": "2d36b7ec-2299-46bb-a4bd-94bf37e3779b",
   "metadata": {
    "jupyter": {
     "source_hidden": true
    },
    "tags": []
   },
   "outputs": [
    {
     "name": "stdout",
     "output_type": "stream",
     "text": [
      "The medium price in IDF is False/m2\n"
     ]
    }
   ],
   "source": [
    "cur.execute(\"SELECT (sum(transaction.valeur_fonciere) / sum(bien.surface_reel_bati)) FROM transaction LEFT JOIN bien ON transaction.bien_id = bien.id WHERE substr(bien.code_postal, 0, 3) IN ('75', '92', '93', '94');\")\n",
    "result = cur.fetchone()\n",
    "\n",
    "print(f'The medium price in IDF is {result[0] or False}/m2')"
   ]
  },
  {
   "cell_type": "markdown",
   "id": "40aaeedf-9097-40df-8ac4-a21fb8718464",
   "metadata": {},
   "source": [
    "------------------\n",
    "##  Liste des 10 appartements les plus chers avec le département et le nombre de mètres carrés"
   ]
  },
  {
   "cell_type": "markdown",
   "id": "77fbeae9-ca10-4a4f-aced-7a7ee46a2bd9",
   "metadata": {},
   "source": [
    "```sql\n",
    "SELECT * FROM (\n",
    "\tSELECT valeur_fonciere, code_postal, surface_reel_bati FROM transaction LEFT JOIN bien on transaction.bien_id = bien.id ORDER BY transaction.valeur_fonciere DESC\n",
    ") x WHERE (-1 IN (valeur_fonciere)) IS NOT NULL LIMIT 10\n",
    "```"
   ]
  },
  {
   "cell_type": "code",
   "execution_count": 156,
   "id": "94f444b2-19e4-47eb-aa10-800515454800",
   "metadata": {
    "jupyter": {
     "source_hidden": true
    },
    "tags": []
   },
   "outputs": [
    {
     "data": {
      "text/html": [
       "<div>\n",
       "<style scoped>\n",
       "    .dataframe tbody tr th:only-of-type {\n",
       "        vertical-align: middle;\n",
       "    }\n",
       "\n",
       "    .dataframe tbody tr th {\n",
       "        vertical-align: top;\n",
       "    }\n",
       "\n",
       "    .dataframe thead th {\n",
       "        text-align: right;\n",
       "    }\n",
       "</style>\n",
       "<table border=\"1\" class=\"dataframe\">\n",
       "  <thead>\n",
       "    <tr style=\"text-align: right;\">\n",
       "      <th></th>\n",
       "      <th>Land value</th>\n",
       "      <th>Postal code</th>\n",
       "      <th>Surface</th>\n",
       "    </tr>\n",
       "  </thead>\n",
       "  <tbody>\n",
       "    <tr>\n",
       "      <th>0</th>\n",
       "      <td>1250000.0</td>\n",
       "      <td>1000</td>\n",
       "      <td>558.0</td>\n",
       "    </tr>\n",
       "    <tr>\n",
       "      <th>1</th>\n",
       "      <td>1250000.0</td>\n",
       "      <td>1000</td>\n",
       "      <td>554.0</td>\n",
       "    </tr>\n",
       "    <tr>\n",
       "      <th>2</th>\n",
       "      <td>1250000.0</td>\n",
       "      <td>1000</td>\n",
       "      <td>NaN</td>\n",
       "    </tr>\n",
       "    <tr>\n",
       "      <th>3</th>\n",
       "      <td>715350.0</td>\n",
       "      <td>1851</td>\n",
       "      <td>NaN</td>\n",
       "    </tr>\n",
       "    <tr>\n",
       "      <th>4</th>\n",
       "      <td>715350.0</td>\n",
       "      <td>1851</td>\n",
       "      <td>400.0</td>\n",
       "    </tr>\n",
       "    <tr>\n",
       "      <th>5</th>\n",
       "      <td>715350.0</td>\n",
       "      <td>1851</td>\n",
       "      <td>NaN</td>\n",
       "    </tr>\n",
       "    <tr>\n",
       "      <th>6</th>\n",
       "      <td>715350.0</td>\n",
       "      <td>1851</td>\n",
       "      <td>NaN</td>\n",
       "    </tr>\n",
       "    <tr>\n",
       "      <th>7</th>\n",
       "      <td>480000.0</td>\n",
       "      <td>1240</td>\n",
       "      <td>NaN</td>\n",
       "    </tr>\n",
       "    <tr>\n",
       "      <th>8</th>\n",
       "      <td>480000.0</td>\n",
       "      <td>1240</td>\n",
       "      <td>NaN</td>\n",
       "    </tr>\n",
       "    <tr>\n",
       "      <th>9</th>\n",
       "      <td>480000.0</td>\n",
       "      <td>1240</td>\n",
       "      <td>1408.0</td>\n",
       "    </tr>\n",
       "  </tbody>\n",
       "</table>\n",
       "</div>"
      ],
      "text/plain": [
       "   Land value Postal code  Surface\n",
       "0   1250000.0        1000    558.0\n",
       "1   1250000.0        1000    554.0\n",
       "2   1250000.0        1000      NaN\n",
       "3    715350.0        1851      NaN\n",
       "4    715350.0        1851    400.0\n",
       "5    715350.0        1851      NaN\n",
       "6    715350.0        1851      NaN\n",
       "7    480000.0        1240      NaN\n",
       "8    480000.0        1240      NaN\n",
       "9    480000.0        1240   1408.0"
      ]
     },
     "execution_count": 156,
     "metadata": {},
     "output_type": "execute_result"
    }
   ],
   "source": [
    "cur.execute('SELECT * FROM (SELECT valeur_fonciere, code_postal, surface_reel_bati FROM transaction LEFT JOIN bien on transaction.bien_id = bien.id ORDER BY transaction.valeur_fonciere DESC) x WHERE (-1 IN (valeur_fonciere)) IS NOT NULL LIMIT 10;')\n",
    "result = cur.fetchall()\n",
    "\n",
    "df = pd.DataFrame(result, columns=['Land value', 'Postal code', 'Surface'])\n",
    "df"
   ]
  },
  {
   "cell_type": "markdown",
   "id": "2365119d-dbef-471e-9399-6721bbea60dd",
   "metadata": {},
   "source": [
    "--------------\n",
    "## Taux d’évolution du nombre de ventes entre le premier et le second trimestre de 2020"
   ]
  },
  {
   "cell_type": "markdown",
   "id": "e9ded899-03f2-4b61-bcc6-de44dba4d8e4",
   "metadata": {},
   "source": [
    "Evolution rate formula : $ {\\displaystyle t={\\frac {V_{A}-V_{D}}{|V_{D}|}}} $ where t is expressed in percentage (%)\n",
    "\n"
   ]
  },
  {
   "cell_type": "markdown",
   "id": "4178b157-19db-4ca1-bd11-dc57662be3c2",
   "metadata": {},
   "source": [
    "```sql\n",
    "SELECT (t2 - t1)::FLOAT / t1 FROM\n",
    "\t(SELECT \n",
    "\t\tsum(case when date_mutation <= '2020-03-31' then 1 else 0 end) as t1,\n",
    "\t\tsum(case when date_mutation BETWEEN '2020-04-01' AND '2020-06-30' then 1 else 0 end) as t2\n",
    "\tFROM transaction) AS ts\n",
    "```"
   ]
  },
  {
   "cell_type": "code",
   "execution_count": 145,
   "id": "7c4b4190-5ea9-4942-8192-80b07f2ef697",
   "metadata": {
    "jupyter": {
     "source_hidden": true
    },
    "tags": []
   },
   "outputs": [
    {
     "name": "stdout",
     "output_type": "stream",
     "text": [
      "The evolution rate bewteen the first and second semester of 2020 is equal to -1.0%\n"
     ]
    }
   ],
   "source": [
    "cur.execute(\"SELECT (t2 - t1)::FLOAT / t1 FROM (SELECT sum(case when date_mutation <= '2020-03-31' then 1 else 0 end) as t1, sum(case when date_mutation BETWEEN '2020-04-01' AND '2020-06-30' then 1 else 0 end) as t2, sum(case when date_mutation BETWEEN '2020-07-01' AND '2020-09-30' then 1 else 0 end) as t3, sum(case when date_mutation >= '2020-10-01' then 1 else 0 end) as t4 FROM transaction) AS ts\")\n",
    "result = cur.fetchone()\n",
    "\n",
    "print(f'The evolution rate bewteen the first and second semester of 2020 is equal to {round(result[0], 3)}%')\n"
   ]
  },
  {
   "cell_type": "markdown",
   "id": "b5ff1f30-bd6a-4b6d-9254-6525449b9611",
   "metadata": {},
   "source": [
    "-------------\n",
    "##  Liste des communes où le nombre de ventes a augmenté d'au moins 20% entre le premier et le second trimestre de 2020"
   ]
  },
  {
   "cell_type": "code",
   "execution_count": 218,
   "id": "4fa9430c-7686-4cfd-93d9-e2643b4afe96",
   "metadata": {},
   "outputs": [],
   "source": [
    "# TO DO"
   ]
  }
 ],
 "metadata": {
  "kernelspec": {
   "display_name": "Python 3",
   "language": "python",
   "name": "python3"
  },
  "language_info": {
   "codemirror_mode": {
    "name": "ipython",
    "version": 3
   },
   "file_extension": ".py",
   "mimetype": "text/x-python",
   "name": "python",
   "nbconvert_exporter": "python",
   "pygments_lexer": "ipython3",
   "version": "3.8.8"
  }
 },
 "nbformat": 4,
 "nbformat_minor": 5
}
