{
 "cells": [
  {
   "cell_type": "markdown",
   "id": "0ff5c5ae-d5ca-4f46-b3f2-5e01513e5436",
   "metadata": {},
   "source": [
    "# Rendu de projet données immobilières"
   ]
  },
  {
   "cell_type": "markdown",
   "id": "646f94dd-c86e-42f0-964d-2dad81c217e3",
   "metadata": {},
   "source": [
    "Useful links : [Subject](https://simplonline.co/briefs/327207de-b68d-4563-bc7a-249a7637782d) | [Original dataset (.csv)](https://www.data.gouv.fr/fr/datasets/5c4ae55a634f4117716d5656/) <br>\n",
    "This project was realized by : Adil, Marianne, Nidal, Théo & Zohra"
   ]
  },
  {
   "cell_type": "markdown",
   "id": "ef608d0e-8da7-4c80-ae87-68003c4d5ee6",
   "metadata": {},
   "source": [
    "### Table of content :\n",
    "- [Dictionnaire de données - Data Dictionary]()\n",
    "- [Modèle Conceptuel de données (MCD)]()\n",
    "- [Modèle Physique de données (MPD)]()"
   ]
  },
  {
   "cell_type": "markdown",
   "id": "5e9993d9-8874-4681-9b04-2b3d12da65c3",
   "metadata": {},
   "source": [
    "## Nombre d'appartements et maisons vendus en 2020"
   ]
  },
  {
   "cell_type": "markdown",
   "id": "ae16ea81-2436-4893-9a2c-562a0efab7c1",
   "metadata": {},
   "source": [
    "```sql\n",
    "# Basic query to get count of indivdual homes\n",
    "\n",
    "SELECT count(transaction.id) FROM transaction LEFT JOIN bien ON transaction.bien_id = bien.id WHERE bien.code_type_local = 1\n",
    "```"
   ]
  },
  {
   "cell_type": "markdown",
   "id": "1285c256-28e4-44cc-ab8b-2ddbec623ab5",
   "metadata": {},
   "source": [
    "```sql\n",
    "# Basic query to get count of flats\n",
    "\n",
    "SELECT count(transaction.id) FROM transaction LEFT JOIN bien ON transaction.bien_id = bien.id WHERE bien.code_type_local = 2\n",
    "```"
   ]
  },
  {
   "cell_type": "markdown",
   "id": "dd98a98f-233a-42db-80e8-65f9fc5972f3",
   "metadata": {
    "tags": []
   },
   "source": [
    "```SQL\n",
    "# Basic query to get total\n",
    "\n",
    "SELECT count(transaction.id) FROM transaction LEFT JOIN bien ON transaction.bien_id = bien.id WHERE bien.code_type_local = 1 OR bien.code_type_local = 2\n",
    "```"
   ]
  },
  {
   "cell_type": "markdown",
   "id": "c7d37184-7581-4357-ba56-9bb99d03969c",
   "metadata": {},
   "source": [
    "```sql\n",
    "# Advanced query to get all those infos\n",
    "\n",
    "SELECT sum(total_houses + total_flats) as sub_total, total_houses, total_flats FROM (\n",
    "\tSELECT total_flats, total_houses FROM \n",
    "\t(\t\n",
    "\t\tSELECT sum(case when bien.code_type_local = 1 then 1 else 0 end) as total_houses, \n",
    "\t\tsum(case when bien.code_type_local = 2 then 1 else 0 end) as total_flats\n",
    "\t\tFROM transaction LEFT JOIN bien ON transaction.bien_id = bien.id \n",
    "\t) x \n",
    ") y GROUP BY total_flats, total_houses\n",
    "```"
   ]
  },
  {
   "cell_type": "markdown",
   "id": "ed43ac76-1f5a-4f33-b1aa-a110022328f8",
   "metadata": {},
   "source": [
    "##  Nombre de biens vendus par trimestre"
   ]
  },
  {
   "cell_type": "markdown",
   "id": "3d213e6b-d233-4883-b021-9a8e6c78f2da",
   "metadata": {},
   "source": [
    "Pistes de réflexion :\n",
    "- calculer 4 trimestres en fonction de 2020 ? (nb de jour /4) ou autre ?"
   ]
  },
  {
   "cell_type": "markdown",
   "id": "885ff030-c0b8-4e69-99e8-02c569b9f1c3",
   "metadata": {},
   "source": [
    "##  Proportion des ventes de biens par trimestre"
   ]
  },
  {
   "cell_type": "markdown",
   "id": "181e7036-6cf1-4625-b2db-238cc42cd109",
   "metadata": {},
   "source": [
    "##  Proportion d’appartements vendus par nombre de pièces"
   ]
  },
  {
   "cell_type": "markdown",
   "id": "7b273d7f-a289-46ad-8c64-4a192abaa314",
   "metadata": {},
   "source": [
    "## Les 10 départements où il y a eu le plus de ventes immobilières"
   ]
  },
  {
   "cell_type": "markdown",
   "id": "396d1206-4546-442e-866a-3be08a30e254",
   "metadata": {},
   "source": [
    "- aggrégat par dept\n",
    "- puis classement et selection des dix premiers"
   ]
  },
  {
   "cell_type": "markdown",
   "id": "c96dbeb2-a82e-456a-8834-5ae6b19f6660",
   "metadata": {},
   "source": [
    "##  Les 10 départements où il y en a eu le moins"
   ]
  },
  {
   "cell_type": "markdown",
   "id": "1f454714-404a-4bde-89b8-95d830dd8736",
   "metadata": {},
   "source": [
    "##  Prix moyen du mètre carré en IDF"
   ]
  },
  {
   "cell_type": "markdown",
   "id": "a42e6866-11b4-40d8-977d-3cf7b6493581",
   "metadata": {},
   "source": [
    "- Sélection de tout les biens en IDF (75, 92, 93, 94)\n",
    "- moyenne"
   ]
  },
  {
   "cell_type": "markdown",
   "id": "40aaeedf-9097-40df-8ac4-a21fb8718464",
   "metadata": {},
   "source": [
    "##  Liste des 10 appartements les plus chers avec le département et le nombre de mètres carrés"
   ]
  },
  {
   "cell_type": "markdown",
   "id": "77fbeae9-ca10-4a4f-aced-7a7ee46a2bd9",
   "metadata": {},
   "source": [
    "```sql\n",
    "SELECT max(valeur_fonciere) FROM transaction LEFT JOIN bien on transaction.bien_id = bien.id LIMIT 10\n",
    "```"
   ]
  },
  {
   "cell_type": "markdown",
   "id": "2365119d-dbef-471e-9399-6721bbea60dd",
   "metadata": {},
   "source": [
    "## Taux d’évolution du nombre de ventes entre le premier et le second trimestre de 2020"
   ]
  },
  {
   "cell_type": "markdown",
   "id": "b5ff1f30-bd6a-4b6d-9254-6525449b9611",
   "metadata": {},
   "source": [
    "##  Liste des communes où le nombre de ventes a augmenté d'au moins 20% entre le premier et le second trimestre de 2020"
   ]
  },
  {
   "cell_type": "code",
   "execution_count": null,
   "id": "4fa9430c-7686-4cfd-93d9-e2643b4afe96",
   "metadata": {},
   "outputs": [],
   "source": []
  }
 ],
 "metadata": {
  "kernelspec": {
   "display_name": "Python 3",
   "language": "python",
   "name": "python3"
  },
  "language_info": {
   "codemirror_mode": {
    "name": "ipython",
    "version": 3
   },
   "file_extension": ".py",
   "mimetype": "text/x-python",
   "name": "python",
   "nbconvert_exporter": "python",
   "pygments_lexer": "ipython3",
   "version": "3.8.8"
  }
 },
 "nbformat": 4,
 "nbformat_minor": 5
}
