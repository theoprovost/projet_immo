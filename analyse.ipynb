{
 "cells": [
  {
   "cell_type": "markdown",
   "source": [
    "# Rendu de projet données immobilières"
   ],
   "metadata": {}
  },
  {
   "cell_type": "markdown",
   "source": [
    "Useful links : [Subject](https://simplonline.co/briefs/327207de-b68d-4563-bc7a-249a7637782d) | [Original dataset (.csv)](https://www.data.gouv.fr/fr/datasets/5c4ae55a634f4117716d5656/) <br>\n",
    "This project was realized by : Adil, Marianne, Nidal, Théo & Zohra"
   ],
   "metadata": {}
  },
  {
   "cell_type": "markdown",
   "source": [
    "----\n",
    "## 📍 TO DO :\n",
    "- Find a solution for data type of col `Code postal`\n",
    "<br>\n",
    "<br>\n",
    "-----"
   ],
   "metadata": {}
  },
  {
   "cell_type": "markdown",
   "source": [
    "### Table of content :\n",
    "> 💡 Links are working if you clik them in theo's GitHub repo\n",
    "- [Dictionnaire de données - Data Dictionary](https://github.com/theoprovost/projet_imm#data_dictionary)\n",
    "- [Modèle Conceptuel de données (MCD)]()\n",
    "- [Modèle Physique de données (MPD)]()"
   ],
   "metadata": {}
  },
  {
   "cell_type": "markdown",
   "source": [
    "### Table of questions :\n",
    "1. [Nombre d'appartements et maisons vendus en 2020](#) \n",
    "2. [Nombre de biens vendu par trimestre](#)\n",
    "3. [Proportion des ventes de biens par trimestre par typologie de bien](#)\n",
    "4. [Proportion d’appartements vendus par nombre de pièces](#)\n",
    "5. [Les 10 départements où il y a eu le plus de ventes immobilières](#)\n",
    "6. [Les 10 départements où il y en a eu le moins](#)\n",
    "7. [Prix au m2 en IDF](#)\n",
    "8. [Liste des 10 appartements les plus chers avec le département et le nombre de mètres carrés](#)\n",
    "9. [Taux d’évolution du nombre de ventes entre le premier et le second trimestre de 2020](#)\n",
    "10. [Liste des communes où le nombre de ventes a augmenté d'au moins 20% entre le premier et le second trimestre de 2020](#)"
   ],
   "metadata": {}
  },
  {
   "cell_type": "code",
   "execution_count": 3,
   "source": [
    "# PG connection\n",
    "import psycopg2 as pgconn\n",
    "\n",
    "def connect():\n",
    "    try:\n",
    "        conn = pgconn.connect(\n",
    "            host='localhost',\n",
    "            database='immo_db',\n",
    "            user='postgres',\n",
    "            password=''\n",
    "        )\n",
    "    except (Exception, pgconn.DatabaseError) as error:\n",
    "        print('⚠︎ Postgres connection error')\n",
    "        conn = error\n",
    "        print(conn)\n",
    "    finally:\n",
    "        print('Connection established with postgres.')\n",
    "        return conn\n",
    "    \n",
    "\n",
    "conn = connect()\n",
    "conn.autocommit = True\n",
    "cur = conn.cursor()\n",
    "\n",
    "# Import pandas\n",
    "import pandas as pd\n",
    "\n",
    "# Import numpy\n",
    "import numpy as np\n",
    "\n",
    "# Import seaborn\n",
    "import seaborn as sn"
   ],
   "outputs": [
    {
     "output_type": "stream",
     "name": "stdout",
     "text": [
      "Connection established with postgres.\n"
     ]
    }
   ],
   "metadata": {
    "jupyter": {
     "source_hidden": true
    },
    "tags": []
   }
  },
  {
   "cell_type": "markdown",
   "source": [
    "----------\n",
    "## Nombre d'appartements et maisons vendus en 2020"
   ],
   "metadata": {}
  },
  {
   "cell_type": "markdown",
   "source": [
    "```sql\n",
    "SELECT sum(total_houses + total_flats) AS sub_total, total_houses, total_flats FROM (\n",
    "\tSELECT * FROM \n",
    "\t(\n",
    "\t\tSELECT sum(case when bien.code_type_local = 1 then 1 else 0 end) AS total_houses, \n",
    "\t\tsum(case when bien.code_type_local = 2 then 1 else 0 end) AS total_flats\n",
    "\t\tFROM transaction LEFT JOIN bien ON transaction.bien_id = bien.id \n",
    "\t) x \n",
    ") y GROUP BY total_flats, total_houses;\n",
    "```\n",
    "<br>"
   ],
   "metadata": {}
  },
  {
   "cell_type": "code",
   "execution_count": 4,
   "source": [
    "cur.execute('SELECT sum(total_houses + total_flats) AS sub_total, total_houses, total_flats FROM (SELECT * FROM (SELECT sum(case when bien.code_type_local = 1 then 1 else 0 end) AS total_houses, sum(case when bien.code_type_local = 2 then 1 else 0 end) AS total_flats FROM transaction LEFT JOIN bien ON transaction.bien_id = bien.id ) x ) y GROUP BY total_flats, total_houses;')\n",
    "result = cur.fetchone()\n",
    "\n",
    "df = pd.DataFrame(result)\n",
    "df = df.transpose()\n",
    "df = df.rename(columns={0: 'Total', 1: 'Sub-total houses', 2: 'Sub-total flats'})\n",
    "\n",
    "df"
   ],
   "outputs": [
    {
     "output_type": "execute_result",
     "data": {
      "text/plain": [
       "   Total Sub-total houses Sub-total flats\n",
       "0  69876            34756           35120"
      ],
      "text/html": [
       "<div>\n",
       "<style scoped>\n",
       "    .dataframe tbody tr th:only-of-type {\n",
       "        vertical-align: middle;\n",
       "    }\n",
       "\n",
       "    .dataframe tbody tr th {\n",
       "        vertical-align: top;\n",
       "    }\n",
       "\n",
       "    .dataframe thead th {\n",
       "        text-align: right;\n",
       "    }\n",
       "</style>\n",
       "<table border=\"1\" class=\"dataframe\">\n",
       "  <thead>\n",
       "    <tr style=\"text-align: right;\">\n",
       "      <th></th>\n",
       "      <th>Total</th>\n",
       "      <th>Sub-total houses</th>\n",
       "      <th>Sub-total flats</th>\n",
       "    </tr>\n",
       "  </thead>\n",
       "  <tbody>\n",
       "    <tr>\n",
       "      <th>0</th>\n",
       "      <td>69876</td>\n",
       "      <td>34756</td>\n",
       "      <td>35120</td>\n",
       "    </tr>\n",
       "  </tbody>\n",
       "</table>\n",
       "</div>"
      ]
     },
     "metadata": {},
     "execution_count": 4
    }
   ],
   "metadata": {
    "jupyter": {
     "source_hidden": true
    },
    "tags": []
   }
  },
  {
   "cell_type": "markdown",
   "source": [
    "------------\n",
    "##  Nombre de biens vendu par trimestre "
   ],
   "metadata": {}
  },
  {
   "cell_type": "markdown",
   "source": [
    "```sql\n",
    "SELECT \n",
    "\tsum(case when date_mutation <= '2020-03-31' then 1 else 0 end) as t1,\n",
    "\tsum(case when date_mutation BETWEEN '2020-04-01' AND '2020-06-30' then 1 else 0 end) as t2,\n",
    "\tsum(case when date_mutation BETWEEN '2020-07-01' AND '2020-09-30' then 1 else 0 end) as t3,\n",
    "\tsum(case when date_mutation >= '2020-10-01' then 1 else 0 end) as t4\n",
    "FROM transaction;\n",
    "```\n",
    "<br>"
   ],
   "metadata": {}
  },
  {
   "cell_type": "code",
   "execution_count": 6,
   "source": [
    "cur.execute(\"SELECT sum(case when date_mutation <= '2020-03-31' then 1 else 0 end) as t1, sum(case when date_mutation BETWEEN '2020-04-01' AND '2020-06-30' then 1 else 0 end) as t2, sum(case when date_mutation BETWEEN '2020-07-01' AND '2020-09-30' then 1 else 0 end) as t3, sum(case when date_mutation >= '2020-10-01' then 1 else 0 end) as t4 FROM transaction\")\n",
    "result = cur.fetchone()\n",
    "\n",
    "df = pd.DataFrame(result)\n",
    "df = df.transpose()\n",
    "df = df.rename(columns={0: 'T1', 1: 'T2', 2: 'T3', 3: 'T4'}, index={0 : '2020'})\n",
    "df"
   ],
   "outputs": [
    {
     "output_type": "execute_result",
     "data": {
      "text/plain": [
       "         T1     T2     T3     T4\n",
       "2020  61410  50793  49230  38567"
      ],
      "text/html": [
       "<div>\n",
       "<style scoped>\n",
       "    .dataframe tbody tr th:only-of-type {\n",
       "        vertical-align: middle;\n",
       "    }\n",
       "\n",
       "    .dataframe tbody tr th {\n",
       "        vertical-align: top;\n",
       "    }\n",
       "\n",
       "    .dataframe thead th {\n",
       "        text-align: right;\n",
       "    }\n",
       "</style>\n",
       "<table border=\"1\" class=\"dataframe\">\n",
       "  <thead>\n",
       "    <tr style=\"text-align: right;\">\n",
       "      <th></th>\n",
       "      <th>T1</th>\n",
       "      <th>T2</th>\n",
       "      <th>T3</th>\n",
       "      <th>T4</th>\n",
       "    </tr>\n",
       "  </thead>\n",
       "  <tbody>\n",
       "    <tr>\n",
       "      <th>2020</th>\n",
       "      <td>61410</td>\n",
       "      <td>50793</td>\n",
       "      <td>49230</td>\n",
       "      <td>38567</td>\n",
       "    </tr>\n",
       "  </tbody>\n",
       "</table>\n",
       "</div>"
      ]
     },
     "metadata": {},
     "execution_count": 6
    }
   ],
   "metadata": {
    "jupyter": {
     "source_hidden": true
    },
    "tags": []
   }
  },
  {
   "cell_type": "markdown",
   "source": [
    "-----------\n",
    "##  Proportion des ventes de biens par trimestre par typologie de bien"
   ],
   "metadata": {}
  },
  {
   "cell_type": "markdown",
   "source": [
    "```sql\n",
    "SELECT \n",
    "\tsum(case when date_mutation <= '2020-03-31' then 1 else 0 end) as t1,\n",
    "\tsum(case when date_mutation BETWEEN '2020-04-01' AND '2020-06-30' then 1 else 0 end) as t2,\n",
    "\tsum(case when date_mutation BETWEEN '2020-07-01' AND '2020-09-30' then 1 else 0 end) as t3,\n",
    "\tsum(case when date_mutation >= '2020-10-01' then 1 else 0 end) as t4\n",
    "FROM transaction LEFT JOIN bien on transaction.bien_id = bien.id GROUP BY bien.code_type_local;\n",
    "```\n",
    "<br>"
   ],
   "metadata": {}
  },
  {
   "cell_type": "code",
   "execution_count": 7,
   "source": [
    "cur.execute(\"SELECT sum(case when date_mutation <= '2020-03-31' then 1 else 0 end) as t1, sum(case when date_mutation BETWEEN '2020-04-01' AND '2020-06-30' then 1 else 0 end) as t2, sum(case when date_mutation BETWEEN '2020-07-01' AND '2020-09-30' then 1 else 0 end) as t3, sum(case when date_mutation >= '2020-10-01' then 1 else 0 end) as t4 FROM transaction LEFT JOIN bien on transaction.bien_id = bien.id GROUP BY bien.code_type_local;\")\n",
    "result = cur.fetchall()\n",
    "\n",
    "df = pd.DataFrame(result, columns=['T1', 'T2', 'T3', 'T4'], index=['Houses', 'Flats', 'Isolated dependancy', 'Industrial space', 'Not specified'])\n",
    "df"
   ],
   "outputs": [
    {
     "output_type": "execute_result",
     "data": {
      "text/plain": [
       "                        T1     T2     T3     T4\n",
       "Houses                9643   8725   9020   7368\n",
       "Flats                10161   8982   9040   6937\n",
       "Isolated dependancy   7986   7182   7324   5131\n",
       "Industrial space      2455   1566   1546   1297\n",
       "Not specified        31165  24338  22300  17834"
      ],
      "text/html": [
       "<div>\n",
       "<style scoped>\n",
       "    .dataframe tbody tr th:only-of-type {\n",
       "        vertical-align: middle;\n",
       "    }\n",
       "\n",
       "    .dataframe tbody tr th {\n",
       "        vertical-align: top;\n",
       "    }\n",
       "\n",
       "    .dataframe thead th {\n",
       "        text-align: right;\n",
       "    }\n",
       "</style>\n",
       "<table border=\"1\" class=\"dataframe\">\n",
       "  <thead>\n",
       "    <tr style=\"text-align: right;\">\n",
       "      <th></th>\n",
       "      <th>T1</th>\n",
       "      <th>T2</th>\n",
       "      <th>T3</th>\n",
       "      <th>T4</th>\n",
       "    </tr>\n",
       "  </thead>\n",
       "  <tbody>\n",
       "    <tr>\n",
       "      <th>Houses</th>\n",
       "      <td>9643</td>\n",
       "      <td>8725</td>\n",
       "      <td>9020</td>\n",
       "      <td>7368</td>\n",
       "    </tr>\n",
       "    <tr>\n",
       "      <th>Flats</th>\n",
       "      <td>10161</td>\n",
       "      <td>8982</td>\n",
       "      <td>9040</td>\n",
       "      <td>6937</td>\n",
       "    </tr>\n",
       "    <tr>\n",
       "      <th>Isolated dependancy</th>\n",
       "      <td>7986</td>\n",
       "      <td>7182</td>\n",
       "      <td>7324</td>\n",
       "      <td>5131</td>\n",
       "    </tr>\n",
       "    <tr>\n",
       "      <th>Industrial space</th>\n",
       "      <td>2455</td>\n",
       "      <td>1566</td>\n",
       "      <td>1546</td>\n",
       "      <td>1297</td>\n",
       "    </tr>\n",
       "    <tr>\n",
       "      <th>Not specified</th>\n",
       "      <td>31165</td>\n",
       "      <td>24338</td>\n",
       "      <td>22300</td>\n",
       "      <td>17834</td>\n",
       "    </tr>\n",
       "  </tbody>\n",
       "</table>\n",
       "</div>"
      ]
     },
     "metadata": {},
     "execution_count": 7
    }
   ],
   "metadata": {
    "jupyter": {
     "source_hidden": true
    },
    "tags": []
   }
  },
  {
   "cell_type": "markdown",
   "source": [
    "--------------\n",
    "##  Proportion d’appartements vendus par nombre de pièces"
   ],
   "metadata": {}
  },
  {
   "cell_type": "markdown",
   "source": [
    "```sql\n",
    "SELECT count(transaction.id), bien.nb_pieces_principales FROM transaction LEFT JOIN bien ON transaction.bien_id = bien.id WHERE bien.code_type_local = 2 GROUP BY bien.nb_pieces_principales ORDER BY bien.nb_pieces_principales;\n",
    "```\n",
    "<br>"
   ],
   "metadata": {}
  },
  {
   "cell_type": "code",
   "execution_count": 8,
   "source": [
    "cur.execute('SELECT count(transaction.id), bien.nb_pieces_principales FROM transaction LEFT JOIN bien ON transaction.bien_id = bien.id WHERE bien.code_type_local = 2 GROUP BY bien.nb_pieces_principales ORDER BY bien.nb_pieces_principales;')\n",
    "result = cur.fetchall()\n",
    "\n",
    "df = pd.DataFrame(result, columns=['Total nb of flats', 'Nb of rooms'])\n",
    "df"
   ],
   "outputs": [
    {
     "output_type": "execute_result",
     "data": {
      "text/plain": [
       "    Total nb of flats  Nb of rooms\n",
       "0                  78            0\n",
       "1                7608            1\n",
       "2               10978            2\n",
       "3               10450            3\n",
       "4                4674            4\n",
       "5                1015            5\n",
       "6                 215            6\n",
       "7                  58            7\n",
       "8                  24            8\n",
       "9                  11            9\n",
       "10                  4           10\n",
       "11                  2           11\n",
       "12                  1           12\n",
       "13                  1           15\n",
       "14                  1           20"
      ],
      "text/html": [
       "<div>\n",
       "<style scoped>\n",
       "    .dataframe tbody tr th:only-of-type {\n",
       "        vertical-align: middle;\n",
       "    }\n",
       "\n",
       "    .dataframe tbody tr th {\n",
       "        vertical-align: top;\n",
       "    }\n",
       "\n",
       "    .dataframe thead th {\n",
       "        text-align: right;\n",
       "    }\n",
       "</style>\n",
       "<table border=\"1\" class=\"dataframe\">\n",
       "  <thead>\n",
       "    <tr style=\"text-align: right;\">\n",
       "      <th></th>\n",
       "      <th>Total nb of flats</th>\n",
       "      <th>Nb of rooms</th>\n",
       "    </tr>\n",
       "  </thead>\n",
       "  <tbody>\n",
       "    <tr>\n",
       "      <th>0</th>\n",
       "      <td>78</td>\n",
       "      <td>0</td>\n",
       "    </tr>\n",
       "    <tr>\n",
       "      <th>1</th>\n",
       "      <td>7608</td>\n",
       "      <td>1</td>\n",
       "    </tr>\n",
       "    <tr>\n",
       "      <th>2</th>\n",
       "      <td>10978</td>\n",
       "      <td>2</td>\n",
       "    </tr>\n",
       "    <tr>\n",
       "      <th>3</th>\n",
       "      <td>10450</td>\n",
       "      <td>3</td>\n",
       "    </tr>\n",
       "    <tr>\n",
       "      <th>4</th>\n",
       "      <td>4674</td>\n",
       "      <td>4</td>\n",
       "    </tr>\n",
       "    <tr>\n",
       "      <th>5</th>\n",
       "      <td>1015</td>\n",
       "      <td>5</td>\n",
       "    </tr>\n",
       "    <tr>\n",
       "      <th>6</th>\n",
       "      <td>215</td>\n",
       "      <td>6</td>\n",
       "    </tr>\n",
       "    <tr>\n",
       "      <th>7</th>\n",
       "      <td>58</td>\n",
       "      <td>7</td>\n",
       "    </tr>\n",
       "    <tr>\n",
       "      <th>8</th>\n",
       "      <td>24</td>\n",
       "      <td>8</td>\n",
       "    </tr>\n",
       "    <tr>\n",
       "      <th>9</th>\n",
       "      <td>11</td>\n",
       "      <td>9</td>\n",
       "    </tr>\n",
       "    <tr>\n",
       "      <th>10</th>\n",
       "      <td>4</td>\n",
       "      <td>10</td>\n",
       "    </tr>\n",
       "    <tr>\n",
       "      <th>11</th>\n",
       "      <td>2</td>\n",
       "      <td>11</td>\n",
       "    </tr>\n",
       "    <tr>\n",
       "      <th>12</th>\n",
       "      <td>1</td>\n",
       "      <td>12</td>\n",
       "    </tr>\n",
       "    <tr>\n",
       "      <th>13</th>\n",
       "      <td>1</td>\n",
       "      <td>15</td>\n",
       "    </tr>\n",
       "    <tr>\n",
       "      <th>14</th>\n",
       "      <td>1</td>\n",
       "      <td>20</td>\n",
       "    </tr>\n",
       "  </tbody>\n",
       "</table>\n",
       "</div>"
      ]
     },
     "metadata": {},
     "execution_count": 8
    }
   ],
   "metadata": {
    "jupyter": {
     "source_hidden": true
    },
    "tags": []
   }
  },
  {
   "cell_type": "markdown",
   "source": [
    "------------\n",
    "## Les 10 départements où il y a eu le plus de ventes immobilières"
   ],
   "metadata": {}
  },
  {
   "cell_type": "markdown",
   "source": [
    "❌ ERR : Attention, trouver une solution pour ne pas perdre le CP (cast en float auto de `pd.read_csv()` dénature la colonne `Code postal` : ie. les 9 premiers départements disparaissent) "
   ],
   "metadata": {}
  },
  {
   "cell_type": "markdown",
   "source": [
    "```sql\n",
    "SELECT count(transaction.id), substr(code_postal, 0, 3) FROM transaction LEFT JOIN bien ON transaction.bien_id = bien.id GROUP BY substr(code_postal, 0, 3) ORDER BY count(transaction.id) DESC LIMIT 10\n",
    "```\n",
    "<br>"
   ],
   "metadata": {}
  },
  {
   "cell_type": "code",
   "execution_count": 17,
   "source": [
    "cur.execute('SELECT count(transaction.id), substr(code_postal, 0, 3) FROM transaction LEFT JOIN bien ON transaction.bien_id = bien.id GROUP BY substr(code_postal, 0, 3) ORDER BY count(transaction.id) DESC LIMIT 10')\n",
    "result = cur.fetchall()\n",
    "\n",
    "df = pd.DataFrame(result, columns=['N° of transactions', 'Department'])\n",
    "df"
   ],
   "outputs": [
    {
     "output_type": "execute_result",
     "data": {
      "text/plain": [
       "   N° of transactions Department\n",
       "0               13196         10\n",
       "1               11678         61\n",
       "2               11520         62\n",
       "3               10241         11\n",
       "4                6950         64\n",
       "5                6660         63\n",
       "6                5632         65\n",
       "7                5613         22\n",
       "8                5529         21\n",
       "9                5350         12"
      ],
      "text/html": [
       "<div>\n",
       "<style scoped>\n",
       "    .dataframe tbody tr th:only-of-type {\n",
       "        vertical-align: middle;\n",
       "    }\n",
       "\n",
       "    .dataframe tbody tr th {\n",
       "        vertical-align: top;\n",
       "    }\n",
       "\n",
       "    .dataframe thead th {\n",
       "        text-align: right;\n",
       "    }\n",
       "</style>\n",
       "<table border=\"1\" class=\"dataframe\">\n",
       "  <thead>\n",
       "    <tr style=\"text-align: right;\">\n",
       "      <th></th>\n",
       "      <th>N° of transactions</th>\n",
       "      <th>Department</th>\n",
       "    </tr>\n",
       "  </thead>\n",
       "  <tbody>\n",
       "    <tr>\n",
       "      <th>0</th>\n",
       "      <td>13196</td>\n",
       "      <td>10</td>\n",
       "    </tr>\n",
       "    <tr>\n",
       "      <th>1</th>\n",
       "      <td>11678</td>\n",
       "      <td>61</td>\n",
       "    </tr>\n",
       "    <tr>\n",
       "      <th>2</th>\n",
       "      <td>11520</td>\n",
       "      <td>62</td>\n",
       "    </tr>\n",
       "    <tr>\n",
       "      <th>3</th>\n",
       "      <td>10241</td>\n",
       "      <td>11</td>\n",
       "    </tr>\n",
       "    <tr>\n",
       "      <th>4</th>\n",
       "      <td>6950</td>\n",
       "      <td>64</td>\n",
       "    </tr>\n",
       "    <tr>\n",
       "      <th>5</th>\n",
       "      <td>6660</td>\n",
       "      <td>63</td>\n",
       "    </tr>\n",
       "    <tr>\n",
       "      <th>6</th>\n",
       "      <td>5632</td>\n",
       "      <td>65</td>\n",
       "    </tr>\n",
       "    <tr>\n",
       "      <th>7</th>\n",
       "      <td>5613</td>\n",
       "      <td>22</td>\n",
       "    </tr>\n",
       "    <tr>\n",
       "      <th>8</th>\n",
       "      <td>5529</td>\n",
       "      <td>21</td>\n",
       "    </tr>\n",
       "    <tr>\n",
       "      <th>9</th>\n",
       "      <td>5350</td>\n",
       "      <td>12</td>\n",
       "    </tr>\n",
       "  </tbody>\n",
       "</table>\n",
       "</div>"
      ]
     },
     "metadata": {},
     "execution_count": 17
    }
   ],
   "metadata": {
    "jupyter": {
     "source_hidden": true
    },
    "tags": []
   }
  },
  {
   "cell_type": "markdown",
   "source": [
    "------------\n",
    "##  Les 10 départements où il y en a eu le moins"
   ],
   "metadata": {}
  },
  {
   "cell_type": "markdown",
   "source": [
    "```sql\n",
    "SELECT count(transaction.id), substr(code_postal, 0, 3) FROM transaction LEFT JOIN bien ON transaction.bien_id = bien.id GROUP BY substr(code_postal, 0, 3) ORDER BY count(transaction.id) ASC LIMIT 10\n",
    "```\n",
    "<br>"
   ],
   "metadata": {}
  },
  {
   "cell_type": "code",
   "execution_count": 20,
   "source": [
    "cur.execute('SELECT count(transaction.id), substr(code_postal, 0, 3) FROM transaction LEFT JOIN bien ON transaction.bien_id = bien.id GROUP BY substr(code_postal, 0, 3) ORDER BY count(transaction.id) ASC LIMIT 10')\n",
    "result = cur.fetchall()\n",
    "\n",
    "df = pd.DataFrame(result, columns=['N° of transactions', 'Department'])\n",
    "df"
   ],
   "outputs": [
    {
     "output_type": "execute_result",
     "data": {
      "text/plain": [
       "   N° of transactions Department\n",
       "0                  89         46\n",
       "1                 118         58\n",
       "2                 150         57\n",
       "3                 229         69\n",
       "4                 236         97\n",
       "5                 242         85\n",
       "6                 258         54\n",
       "7                 283         38\n",
       "8                 284         88\n",
       "9                 289         37"
      ],
      "text/html": [
       "<div>\n",
       "<style scoped>\n",
       "    .dataframe tbody tr th:only-of-type {\n",
       "        vertical-align: middle;\n",
       "    }\n",
       "\n",
       "    .dataframe tbody tr th {\n",
       "        vertical-align: top;\n",
       "    }\n",
       "\n",
       "    .dataframe thead th {\n",
       "        text-align: right;\n",
       "    }\n",
       "</style>\n",
       "<table border=\"1\" class=\"dataframe\">\n",
       "  <thead>\n",
       "    <tr style=\"text-align: right;\">\n",
       "      <th></th>\n",
       "      <th>N° of transactions</th>\n",
       "      <th>Department</th>\n",
       "    </tr>\n",
       "  </thead>\n",
       "  <tbody>\n",
       "    <tr>\n",
       "      <th>0</th>\n",
       "      <td>89</td>\n",
       "      <td>46</td>\n",
       "    </tr>\n",
       "    <tr>\n",
       "      <th>1</th>\n",
       "      <td>118</td>\n",
       "      <td>58</td>\n",
       "    </tr>\n",
       "    <tr>\n",
       "      <th>2</th>\n",
       "      <td>150</td>\n",
       "      <td>57</td>\n",
       "    </tr>\n",
       "    <tr>\n",
       "      <th>3</th>\n",
       "      <td>229</td>\n",
       "      <td>69</td>\n",
       "    </tr>\n",
       "    <tr>\n",
       "      <th>4</th>\n",
       "      <td>236</td>\n",
       "      <td>97</td>\n",
       "    </tr>\n",
       "    <tr>\n",
       "      <th>5</th>\n",
       "      <td>242</td>\n",
       "      <td>85</td>\n",
       "    </tr>\n",
       "    <tr>\n",
       "      <th>6</th>\n",
       "      <td>258</td>\n",
       "      <td>54</td>\n",
       "    </tr>\n",
       "    <tr>\n",
       "      <th>7</th>\n",
       "      <td>283</td>\n",
       "      <td>38</td>\n",
       "    </tr>\n",
       "    <tr>\n",
       "      <th>8</th>\n",
       "      <td>284</td>\n",
       "      <td>88</td>\n",
       "    </tr>\n",
       "    <tr>\n",
       "      <th>9</th>\n",
       "      <td>289</td>\n",
       "      <td>37</td>\n",
       "    </tr>\n",
       "  </tbody>\n",
       "</table>\n",
       "</div>"
      ]
     },
     "metadata": {},
     "execution_count": 20
    }
   ],
   "metadata": {
    "jupyter": {
     "source_hidden": true
    },
    "tags": []
   }
  },
  {
   "cell_type": "markdown",
   "source": [
    "--------------\n",
    "##  Prix moyen du mètre carré en IDF"
   ],
   "metadata": {}
  },
  {
   "cell_type": "markdown",
   "source": [
    "```sql\n",
    "\tSELECT (sum(transaction.valeur_fonciere) / sum(bien.surface_reel_bati)) FROM transaction LEFT JOIN bien ON transaction.bien_id = bien.id WHERE substr(bien.code_postal, 0, 3) IN ('75', '92', '93', '94')\n",
    "```\n",
    "<br>"
   ],
   "metadata": {}
  },
  {
   "cell_type": "code",
   "execution_count": 10,
   "source": [
    "cur.execute(\"SELECT (sum(transaction.valeur_fonciere) / sum(bien.surface_reel_bati)) FROM transaction LEFT JOIN bien ON transaction.bien_id = bien.id WHERE substr(bien.code_postal, 0, 3) IN ('75', '92', '93', '94');\")\n",
    "result = cur.fetchone()\n",
    "\n",
    "print(f'The medium price in IDF is {round(result[0], 2) or False}/m2')"
   ],
   "outputs": [
    {
     "output_type": "stream",
     "name": "stdout",
     "text": [
      "The medium price in IDF is 4400.79/m2\n"
     ]
    }
   ],
   "metadata": {
    "jupyter": {
     "source_hidden": true
    },
    "tags": []
   }
  },
  {
   "cell_type": "markdown",
   "source": [
    "------------------\n",
    "##  Liste des 10 appartements les plus chers avec le département et le nombre de mètres carrés"
   ],
   "metadata": {}
  },
  {
   "cell_type": "markdown",
   "source": [
    "```sql\n",
    "SELECT * FROM (\n",
    "\tSELECT valeur_fonciere, code_postal, surface_reel_bati FROM transaction LEFT JOIN bien on transaction.bien_id = bien.id ORDER BY transaction.valeur_fonciere DESC\n",
    ") x WHERE (-1 IN (valeur_fonciere)) IS NOT NULL LIMIT 10\n",
    "```\n",
    "<br>"
   ],
   "metadata": {}
  },
  {
   "cell_type": "code",
   "execution_count": 11,
   "source": [
    "cur.execute('SELECT * FROM (SELECT valeur_fonciere, code_postal, surface_reel_bati FROM transaction LEFT JOIN bien on transaction.bien_id = bien.id ORDER BY transaction.valeur_fonciere DESC) x WHERE (-1 IN (valeur_fonciere)) IS NOT NULL LIMIT 10;')\n",
    "result = cur.fetchall()\n",
    "\n",
    "df = pd.DataFrame(result, columns=['Land value', 'Postal code', 'Surface'])\n",
    "df"
   ],
   "outputs": [
    {
     "output_type": "execute_result",
     "data": {
      "text/plain": [
       "   Land value Postal code  Surface\n",
       "0  49000000.0        6190     70.0\n",
       "1  49000000.0        6190    996.0\n",
       "2  49000000.0        6190      0.0\n",
       "3  47500000.0        6230    455.0\n",
       "4  47500000.0        6230      NaN\n",
       "5  47500000.0        6230     93.0\n",
       "6  47500000.0        6230      0.0\n",
       "7  47500000.0        6230    455.0\n",
       "8  43200000.0        6200      NaN\n",
       "9  43200000.0        6200      NaN"
      ],
      "text/html": [
       "<div>\n",
       "<style scoped>\n",
       "    .dataframe tbody tr th:only-of-type {\n",
       "        vertical-align: middle;\n",
       "    }\n",
       "\n",
       "    .dataframe tbody tr th {\n",
       "        vertical-align: top;\n",
       "    }\n",
       "\n",
       "    .dataframe thead th {\n",
       "        text-align: right;\n",
       "    }\n",
       "</style>\n",
       "<table border=\"1\" class=\"dataframe\">\n",
       "  <thead>\n",
       "    <tr style=\"text-align: right;\">\n",
       "      <th></th>\n",
       "      <th>Land value</th>\n",
       "      <th>Postal code</th>\n",
       "      <th>Surface</th>\n",
       "    </tr>\n",
       "  </thead>\n",
       "  <tbody>\n",
       "    <tr>\n",
       "      <th>0</th>\n",
       "      <td>49000000.0</td>\n",
       "      <td>6190</td>\n",
       "      <td>70.0</td>\n",
       "    </tr>\n",
       "    <tr>\n",
       "      <th>1</th>\n",
       "      <td>49000000.0</td>\n",
       "      <td>6190</td>\n",
       "      <td>996.0</td>\n",
       "    </tr>\n",
       "    <tr>\n",
       "      <th>2</th>\n",
       "      <td>49000000.0</td>\n",
       "      <td>6190</td>\n",
       "      <td>0.0</td>\n",
       "    </tr>\n",
       "    <tr>\n",
       "      <th>3</th>\n",
       "      <td>47500000.0</td>\n",
       "      <td>6230</td>\n",
       "      <td>455.0</td>\n",
       "    </tr>\n",
       "    <tr>\n",
       "      <th>4</th>\n",
       "      <td>47500000.0</td>\n",
       "      <td>6230</td>\n",
       "      <td>NaN</td>\n",
       "    </tr>\n",
       "    <tr>\n",
       "      <th>5</th>\n",
       "      <td>47500000.0</td>\n",
       "      <td>6230</td>\n",
       "      <td>93.0</td>\n",
       "    </tr>\n",
       "    <tr>\n",
       "      <th>6</th>\n",
       "      <td>47500000.0</td>\n",
       "      <td>6230</td>\n",
       "      <td>0.0</td>\n",
       "    </tr>\n",
       "    <tr>\n",
       "      <th>7</th>\n",
       "      <td>47500000.0</td>\n",
       "      <td>6230</td>\n",
       "      <td>455.0</td>\n",
       "    </tr>\n",
       "    <tr>\n",
       "      <th>8</th>\n",
       "      <td>43200000.0</td>\n",
       "      <td>6200</td>\n",
       "      <td>NaN</td>\n",
       "    </tr>\n",
       "    <tr>\n",
       "      <th>9</th>\n",
       "      <td>43200000.0</td>\n",
       "      <td>6200</td>\n",
       "      <td>NaN</td>\n",
       "    </tr>\n",
       "  </tbody>\n",
       "</table>\n",
       "</div>"
      ]
     },
     "metadata": {},
     "execution_count": 11
    }
   ],
   "metadata": {
    "jupyter": {
     "source_hidden": true
    },
    "tags": []
   }
  },
  {
   "cell_type": "markdown",
   "source": [
    "--------------\n",
    "## Taux d’évolution du nombre de ventes entre le premier et le second trimestre de 2020"
   ],
   "metadata": {}
  },
  {
   "cell_type": "markdown",
   "source": [
    "Evolution rate formula : $ {\\displaystyle t={\\frac {V_{A}-V_{D}}{|V_{D}|}}} $ where t is expressed in percentage (%)\n",
    "\n"
   ],
   "metadata": {}
  },
  {
   "cell_type": "markdown",
   "source": [
    "\n",
    "```sql\n",
    "SELECT (t2 - t1)::FLOAT / t1 FROM\n",
    "\t(SELECT \n",
    "\t\tsum(case when date_mutation <= '2020-03-31' then 1 else 0 end) as t1,\n",
    "\t\tsum(case when date_mutation BETWEEN '2020-04-01' AND '2020-06-30' then 1 else 0 end) as t2\n",
    "\tFROM transaction) AS ts\n",
    "```\n",
    "<br>"
   ],
   "metadata": {}
  },
  {
   "cell_type": "code",
   "execution_count": 12,
   "source": [
    "cur.execute(\"SELECT (t2 - t1)::FLOAT / t1 FROM (SELECT sum(case when date_mutation <= '2020-03-31' then 1 else 0 end) as t1, sum(case when date_mutation BETWEEN '2020-04-01' AND '2020-06-30' then 1 else 0 end) as t2, sum(case when date_mutation BETWEEN '2020-07-01' AND '2020-09-30' then 1 else 0 end) as t3, sum(case when date_mutation >= '2020-10-01' then 1 else 0 end) as t4 FROM transaction) AS ts\")\n",
    "result = cur.fetchone()\n",
    "\n",
    "print(f'The evolution rate bewteen the first and second semester of 2020 is equal to {round(result[0], 3)}%')\n"
   ],
   "outputs": [
    {
     "output_type": "stream",
     "name": "stdout",
     "text": [
      "The evolution rate bewteen the first and second semester of 2020 is equal to -0.173%\n"
     ]
    }
   ],
   "metadata": {
    "jupyter": {
     "source_hidden": true
    },
    "tags": []
   }
  },
  {
   "cell_type": "markdown",
   "source": [
    "-------------\n",
    "##  Liste des communes où le nombre de ventes a augmenté d'au moins 20% entre le premier et le second trimestre de 2020"
   ],
   "metadata": {}
  },
  {
   "cell_type": "markdown",
   "source": [
    "```sql\n",
    "SELECT (t2 - t1)::FLOAT/ t1 , commune FROM\n",
    "\t(SELECT \n",
    "\t\tsum(case when date_mutation <= '2020-03-31' then 1 else 0 end) as t1,\n",
    "\t\tsum(case when date_mutation BETWEEN '2020-04-01' AND '2020-06-30' then 1 else 0 end) as t2,\n",
    "\t \tcommune\n",
    "\tFROM transaction\n",
    "\tLEFT JOIN bien ON transaction.bien_id = bien.id\n",
    "\tLEFT JOIN localisation ON bien.code_postal = localisation.code_postal\n",
    "\tLEFT JOIN commune ON localisation.code_commune = commune.code_commune\n",
    "\tGROUP BY commune.commune\n",
    "\t) ts WHERE (t2 - t1)::FLOAT/ t1 >= 0.2 AND commune IS NOT NULL ORDER BY (t2 - t1)::FLOAT/ t1 DESC;\n",
    "```\n",
    "<br>"
   ],
   "metadata": {}
  },
  {
   "cell_type": "code",
   "execution_count": 21,
   "source": [
    "cur.execute(\"SELECT (t2 - t1)::FLOAT/ t1 , commune FROM (SELECT sum(case when date_mutation <= '2020-03-31' then 1 else 0 end) as t1,sum(case when date_mutation BETWEEN '2020-04-01' AND '2020-06-30' then 1 else 0 end) as t2, commune FROM transaction LEFT JOIN bien ON transaction.bien_id = bien.id LEFT JOIN localisation ON bien.code_postal = localisation.code_postal LEFT JOIN commune ON localisation.code_commune = commune.code_commune GROUP BY commune.commune) ts WHERE (t2 - t1)::FLOAT/ t1 >= 0.2 AND commune IS NOT NULL ORDER BY (t2 - t1)::FLOAT/ t1 DESC LIMIT 20;\")\n",
    "result = cur.fetchall()\n",
    "\n",
    "df = pd.DataFrame(result, columns=['Evolution rate', 'Municipality'])\n",
    "df"
   ],
   "outputs": [
    {
     "output_type": "execute_result",
     "data": {
      "text/plain": [
       "    Evolution rate             Municipality\n",
       "0         8.000000      SERAUCOURT LE GRAND\n",
       "1         4.444444                 SISSONNE\n",
       "2         2.941176                  MAGNIEU\n",
       "3         2.571429                LA BOISSE\n",
       "4         2.208333     NIVOLLET-MONTGRIFFON\n",
       "5         1.952096                    ARMIX\n",
       "6         1.769231      ST-MARTIN-DU-FRESNE\n",
       "7         1.720930                MONTANGES\n",
       "8         1.428571             SAINT MICHEL\n",
       "9         1.219355                MARSONNAS\n",
       "10        0.915966                  LOMPNAS\n",
       "11        0.846154             LAVAQUERESSE\n",
       "12        0.760000  SAINT-LAURENT-SUR-SAONE\n",
       "13        0.734694                 FONTENOY\n",
       "14        0.732484                   DORTAN\n",
       "15        0.718310            SAINT-BENIGNE\n",
       "16        0.647577           ANIZY LE GRAND\n",
       "17        0.641509                    FRANS\n",
       "18        0.636364                   GAUCHY\n",
       "19        0.615385                  OUTRIAZ"
      ],
      "text/html": [
       "<div>\n",
       "<style scoped>\n",
       "    .dataframe tbody tr th:only-of-type {\n",
       "        vertical-align: middle;\n",
       "    }\n",
       "\n",
       "    .dataframe tbody tr th {\n",
       "        vertical-align: top;\n",
       "    }\n",
       "\n",
       "    .dataframe thead th {\n",
       "        text-align: right;\n",
       "    }\n",
       "</style>\n",
       "<table border=\"1\" class=\"dataframe\">\n",
       "  <thead>\n",
       "    <tr style=\"text-align: right;\">\n",
       "      <th></th>\n",
       "      <th>Evolution rate</th>\n",
       "      <th>Municipality</th>\n",
       "    </tr>\n",
       "  </thead>\n",
       "  <tbody>\n",
       "    <tr>\n",
       "      <th>0</th>\n",
       "      <td>8.000000</td>\n",
       "      <td>SERAUCOURT LE GRAND</td>\n",
       "    </tr>\n",
       "    <tr>\n",
       "      <th>1</th>\n",
       "      <td>4.444444</td>\n",
       "      <td>SISSONNE</td>\n",
       "    </tr>\n",
       "    <tr>\n",
       "      <th>2</th>\n",
       "      <td>2.941176</td>\n",
       "      <td>MAGNIEU</td>\n",
       "    </tr>\n",
       "    <tr>\n",
       "      <th>3</th>\n",
       "      <td>2.571429</td>\n",
       "      <td>LA BOISSE</td>\n",
       "    </tr>\n",
       "    <tr>\n",
       "      <th>4</th>\n",
       "      <td>2.208333</td>\n",
       "      <td>NIVOLLET-MONTGRIFFON</td>\n",
       "    </tr>\n",
       "    <tr>\n",
       "      <th>5</th>\n",
       "      <td>1.952096</td>\n",
       "      <td>ARMIX</td>\n",
       "    </tr>\n",
       "    <tr>\n",
       "      <th>6</th>\n",
       "      <td>1.769231</td>\n",
       "      <td>ST-MARTIN-DU-FRESNE</td>\n",
       "    </tr>\n",
       "    <tr>\n",
       "      <th>7</th>\n",
       "      <td>1.720930</td>\n",
       "      <td>MONTANGES</td>\n",
       "    </tr>\n",
       "    <tr>\n",
       "      <th>8</th>\n",
       "      <td>1.428571</td>\n",
       "      <td>SAINT MICHEL</td>\n",
       "    </tr>\n",
       "    <tr>\n",
       "      <th>9</th>\n",
       "      <td>1.219355</td>\n",
       "      <td>MARSONNAS</td>\n",
       "    </tr>\n",
       "    <tr>\n",
       "      <th>10</th>\n",
       "      <td>0.915966</td>\n",
       "      <td>LOMPNAS</td>\n",
       "    </tr>\n",
       "    <tr>\n",
       "      <th>11</th>\n",
       "      <td>0.846154</td>\n",
       "      <td>LAVAQUERESSE</td>\n",
       "    </tr>\n",
       "    <tr>\n",
       "      <th>12</th>\n",
       "      <td>0.760000</td>\n",
       "      <td>SAINT-LAURENT-SUR-SAONE</td>\n",
       "    </tr>\n",
       "    <tr>\n",
       "      <th>13</th>\n",
       "      <td>0.734694</td>\n",
       "      <td>FONTENOY</td>\n",
       "    </tr>\n",
       "    <tr>\n",
       "      <th>14</th>\n",
       "      <td>0.732484</td>\n",
       "      <td>DORTAN</td>\n",
       "    </tr>\n",
       "    <tr>\n",
       "      <th>15</th>\n",
       "      <td>0.718310</td>\n",
       "      <td>SAINT-BENIGNE</td>\n",
       "    </tr>\n",
       "    <tr>\n",
       "      <th>16</th>\n",
       "      <td>0.647577</td>\n",
       "      <td>ANIZY LE GRAND</td>\n",
       "    </tr>\n",
       "    <tr>\n",
       "      <th>17</th>\n",
       "      <td>0.641509</td>\n",
       "      <td>FRANS</td>\n",
       "    </tr>\n",
       "    <tr>\n",
       "      <th>18</th>\n",
       "      <td>0.636364</td>\n",
       "      <td>GAUCHY</td>\n",
       "    </tr>\n",
       "    <tr>\n",
       "      <th>19</th>\n",
       "      <td>0.615385</td>\n",
       "      <td>OUTRIAZ</td>\n",
       "    </tr>\n",
       "  </tbody>\n",
       "</table>\n",
       "</div>"
      ]
     },
     "metadata": {},
     "execution_count": 21
    }
   ],
   "metadata": {
    "jupyter": {
     "source_hidden": true
    },
    "tags": []
   }
  }
 ],
 "metadata": {
  "kernelspec": {
   "display_name": "Python 3",
   "language": "python",
   "name": "python3"
  },
  "language_info": {
   "codemirror_mode": {
    "name": "ipython",
    "version": 3
   },
   "file_extension": ".py",
   "mimetype": "text/x-python",
   "name": "python",
   "nbconvert_exporter": "python",
   "pygments_lexer": "ipython3",
   "version": "3.8.8"
  }
 },
 "nbformat": 4,
 "nbformat_minor": 5
}